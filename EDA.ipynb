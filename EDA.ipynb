{
 "cells": [
  {
   "cell_type": "code",
   "execution_count": 82,
   "metadata": {},
   "outputs": [
    {
     "name": "stdout",
     "output_type": "stream",
     "text": [
      "2.7.13 |Anaconda 4.0.0 (x86_64)| (default, Dec 20 2016, 23:05:08) \n",
      "[GCC 4.2.1 Compatible Apple LLVM 6.0 (clang-600.0.57)]\n",
      "Numpy version: 1.12.1\n",
      "Pandas version: 0.19.2\n",
      "Matplotlib version: 2.0.0\n"
     ]
    }
   ],
   "source": [
    "#Import relevant libraries\n",
    "%matplotlib inline\n",
    "%config InlineBackend.figure_format = 'retina' #nicer rendering of plots in retina displays\n",
    "\n",
    "import sys\n",
    "print(sys.version)\n",
    "\n",
    "import numpy as np\n",
    "print 'Numpy version:', np.__version__\n",
    "\n",
    "import pandas as pd\n",
    "print 'Pandas version:', pd.__version__\n",
    "\n",
    "import matplotlib as mpl\n",
    "import matplotlib.pyplot as plt\n",
    "from matplotlib.ticker import FuncFormatter\n",
    "print 'Matplotlib version:', mpl.__version__\n",
    "\n",
    "import plotly.plotly as py\n",
    "import plotly.graph_objs as go\n",
    "\n",
    "import seaborn as sns\n",
    "sns.set()\n",
    "pal = sns.hls_palette(10, h=.5)\n",
    "sns.set_palette(pal)\n",
    "\n",
    "import re"
   ]
  },
  {
   "cell_type": "markdown",
   "metadata": {},
   "source": [
    "# Analyzing the Impact of the Affordable Care Act"
   ]
  },
  {
   "cell_type": "markdown",
   "metadata": {},
   "source": [
    "The Affordable Care Act (ACA) is the name for the comprehensive health care reform law and its amendments which addresses health insurance coverage, health care costs, and preventive care. The law was enacted in two parts: The Patient Protection and Affordable Care Act was signed into law on March 23, 2010 by President Barack Obama and was amended by the Health Care and Education Reconciliation Act on March 30, 2010."
   ]
  },
  {
   "cell_type": "markdown",
   "metadata": {},
   "source": [
    "A repeal of the ACA was recently approved by the Congress. This analysis aims to expose metrics to quantify the impact of the ACA."
   ]
  },
  {
   "cell_type": "code",
   "execution_count": 3,
   "metadata": {},
   "outputs": [
    {
     "name": "stdout",
     "output_type": "stream",
     "text": [
      "HC_access_1995-2010.csv  pop_2016.csv             state_codes.csv\r\n",
      "HC_access_afterACA.csv   pop_65+_perState.csv\r\n"
     ]
    }
   ],
   "source": [
    "%ls Data/"
   ]
  },
  {
   "cell_type": "markdown",
   "metadata": {},
   "source": [
    "# Load and process dataset with information before the ACA (1995-2010)"
   ]
  },
  {
   "cell_type": "code",
   "execution_count": 4,
   "metadata": {
    "collapsed": true
   },
   "outputs": [],
   "source": [
    "#Source: https://www.kaggle.com/cdc/health-care-access-coverage\n",
    "#The health insurance coverage data was compiled from the US Department of Health and Human Services and \n",
    "#US Census Bureau. It seems to relate to surveys, maybe the American Community Survey? \n",
    "\n",
    "pre_ACA = pd.read_csv('Data/HC_access_1995-2010.csv')"
   ]
  },
  {
   "cell_type": "code",
   "execution_count": 5,
   "metadata": {},
   "outputs": [
    {
     "data": {
      "text/html": [
       "<div>\n",
       "<table border=\"1\" class=\"dataframe\">\n",
       "  <thead>\n",
       "    <tr style=\"text-align: right;\">\n",
       "      <th></th>\n",
       "      <th>Year</th>\n",
       "      <th>State</th>\n",
       "      <th>Yes</th>\n",
       "      <th>No</th>\n",
       "      <th>Category</th>\n",
       "      <th>Condition</th>\n",
       "      <th>Location 1</th>\n",
       "    </tr>\n",
       "  </thead>\n",
       "  <tbody>\n",
       "    <tr>\n",
       "      <th>0</th>\n",
       "      <td>2010</td>\n",
       "      <td>Nationwide (States, DC, and Territories)</td>\n",
       "      <td>85%</td>\n",
       "      <td>15%</td>\n",
       "      <td>Health Care Access/Coverage</td>\n",
       "      <td>Do you have any kind of health care coverage?</td>\n",
       "      <td>Nationwide (States, DC, and Territories)\\n</td>\n",
       "    </tr>\n",
       "    <tr>\n",
       "      <th>1</th>\n",
       "      <td>2010</td>\n",
       "      <td>Nationwide (States and DC)</td>\n",
       "      <td>85%</td>\n",
       "      <td>15%</td>\n",
       "      <td>Health Care Access/Coverage</td>\n",
       "      <td>Do you have any kind of health care coverage?</td>\n",
       "      <td>Nationwide (States and DC)\\n</td>\n",
       "    </tr>\n",
       "    <tr>\n",
       "      <th>2</th>\n",
       "      <td>2010</td>\n",
       "      <td>Guam</td>\n",
       "      <td>77.80%</td>\n",
       "      <td>22.20%</td>\n",
       "      <td>Health Care Access/Coverage</td>\n",
       "      <td>Do you have any kind of health care coverage?</td>\n",
       "      <td>Guam\\n</td>\n",
       "    </tr>\n",
       "    <tr>\n",
       "      <th>3</th>\n",
       "      <td>2010</td>\n",
       "      <td>Puerto Rico</td>\n",
       "      <td>92.10%</td>\n",
       "      <td>7.90%</td>\n",
       "      <td>Health Care Access/Coverage</td>\n",
       "      <td>Do you have any kind of health care coverage?</td>\n",
       "      <td>Puerto Rico\\n</td>\n",
       "    </tr>\n",
       "    <tr>\n",
       "      <th>4</th>\n",
       "      <td>2010</td>\n",
       "      <td>Virgin Islands</td>\n",
       "      <td>69.40%</td>\n",
       "      <td>30.60%</td>\n",
       "      <td>Health Care Access/Coverage</td>\n",
       "      <td>Do you have any kind of health care coverage?</td>\n",
       "      <td>Virgin Islands\\n</td>\n",
       "    </tr>\n",
       "  </tbody>\n",
       "</table>\n",
       "</div>"
      ],
      "text/plain": [
       "   Year                                     State     Yes      No  \\\n",
       "0  2010  Nationwide (States, DC, and Territories)     85%     15%   \n",
       "1  2010                Nationwide (States and DC)     85%     15%   \n",
       "2  2010                                      Guam  77.80%  22.20%   \n",
       "3  2010                               Puerto Rico  92.10%   7.90%   \n",
       "4  2010                            Virgin Islands  69.40%  30.60%   \n",
       "\n",
       "                      Category                                      Condition  \\\n",
       "0  Health Care Access/Coverage  Do you have any kind of health care coverage?   \n",
       "1  Health Care Access/Coverage  Do you have any kind of health care coverage?   \n",
       "2  Health Care Access/Coverage  Do you have any kind of health care coverage?   \n",
       "3  Health Care Access/Coverage  Do you have any kind of health care coverage?   \n",
       "4  Health Care Access/Coverage  Do you have any kind of health care coverage?   \n",
       "\n",
       "                                   Location 1  \n",
       "0  Nationwide (States, DC, and Territories)\\n  \n",
       "1                Nationwide (States and DC)\\n  \n",
       "2                                      Guam\\n  \n",
       "3                               Puerto Rico\\n  \n",
       "4                            Virgin Islands\\n  "
      ]
     },
     "execution_count": 5,
     "metadata": {},
     "output_type": "execute_result"
    }
   ],
   "source": [
    "pre_ACA.head(5)"
   ]
  },
  {
   "cell_type": "code",
   "execution_count": 6,
   "metadata": {
    "collapsed": true
   },
   "outputs": [],
   "source": [
    "#Remove % from string values\n",
    "pre_ACA['Yes'] = pre_ACA.Yes.apply(lambda x: re.sub('%', '', x))\n",
    "pre_ACA['No'] = pre_ACA.No.apply(lambda x: re.sub('%', '', x))"
   ]
  },
  {
   "cell_type": "code",
   "execution_count": 7,
   "metadata": {
    "collapsed": true
   },
   "outputs": [],
   "source": [
    "#Get geolocation\n",
    "pre_ACA['geolocation'] = pre_ACA['Location 1'].apply(lambda x: x.split('\\n')[1].split(','))"
   ]
  },
  {
   "cell_type": "code",
   "execution_count": 8,
   "metadata": {
    "collapsed": true
   },
   "outputs": [],
   "source": [
    "#Get latitude from geolocation\n",
    "pre_ACA['lat'] = pre_ACA.geolocation.apply(lambda x: re.sub('\\(', '', x[0]))"
   ]
  },
  {
   "cell_type": "code",
   "execution_count": 9,
   "metadata": {
    "collapsed": true
   },
   "outputs": [],
   "source": [
    "def get_long(x):\n",
    "    return re.sub('\\)|\\s', '', x[1]) if len(x)>1 else ''"
   ]
  },
  {
   "cell_type": "code",
   "execution_count": 10,
   "metadata": {
    "collapsed": true
   },
   "outputs": [],
   "source": [
    "#Get longitude from geolocation\n",
    "pre_ACA['long'] = pre_ACA.geolocation.apply(lambda x: get_long(x))"
   ]
  },
  {
   "cell_type": "code",
   "execution_count": 11,
   "metadata": {
    "collapsed": true
   },
   "outputs": [],
   "source": [
    "#Drop redundant columns\n",
    "pre_ACA = pre_ACA.drop('geolocation', axis=1)\n",
    "pre_ACA = pre_ACA.drop('Location 1', axis=1)"
   ]
  },
  {
   "cell_type": "code",
   "execution_count": 12,
   "metadata": {
    "collapsed": true
   },
   "outputs": [],
   "source": [
    "#Convert string datatypes to numeric\n",
    "for col in ['Yes', 'No', 'lat', 'long']:\n",
    "    pre_ACA[col] = pd.to_numeric(pre_ACA[col])"
   ]
  },
  {
   "cell_type": "code",
   "execution_count": 13,
   "metadata": {},
   "outputs": [
    {
     "data": {
      "text/html": [
       "<div>\n",
       "<table border=\"1\" class=\"dataframe\">\n",
       "  <thead>\n",
       "    <tr style=\"text-align: right;\">\n",
       "      <th></th>\n",
       "      <th>Year</th>\n",
       "      <th>State</th>\n",
       "      <th>Yes</th>\n",
       "      <th>No</th>\n",
       "      <th>Category</th>\n",
       "      <th>Condition</th>\n",
       "      <th>lat</th>\n",
       "      <th>long</th>\n",
       "    </tr>\n",
       "  </thead>\n",
       "  <tbody>\n",
       "    <tr>\n",
       "      <th>1635</th>\n",
       "      <td>2010</td>\n",
       "      <td>Alabama</td>\n",
       "      <td>79.9</td>\n",
       "      <td>20.1</td>\n",
       "      <td>Health Care Access/Coverage</td>\n",
       "      <td>Adults aged 18-64 who have any kind of health ...</td>\n",
       "      <td>32.840571</td>\n",
       "      <td>-86.631861</td>\n",
       "    </tr>\n",
       "    <tr>\n",
       "      <th>1636</th>\n",
       "      <td>1996</td>\n",
       "      <td>Mississippi</td>\n",
       "      <td>82.7</td>\n",
       "      <td>17.3</td>\n",
       "      <td>Health Care Access/Coverage</td>\n",
       "      <td>Adults aged 18-64 who have any kind of health ...</td>\n",
       "      <td>32.745510</td>\n",
       "      <td>-89.538031</td>\n",
       "    </tr>\n",
       "    <tr>\n",
       "      <th>1637</th>\n",
       "      <td>1996</td>\n",
       "      <td>Virginia</td>\n",
       "      <td>85.4</td>\n",
       "      <td>14.6</td>\n",
       "      <td>Health Care Access/Coverage</td>\n",
       "      <td>Do you have any kind of health care coverage?</td>\n",
       "      <td>37.542681</td>\n",
       "      <td>-78.457890</td>\n",
       "    </tr>\n",
       "    <tr>\n",
       "      <th>1638</th>\n",
       "      <td>2006</td>\n",
       "      <td>Wyoming</td>\n",
       "      <td>82.1</td>\n",
       "      <td>17.9</td>\n",
       "      <td>Health Care Access/Coverage</td>\n",
       "      <td>Do you have any kind of health care coverage?</td>\n",
       "      <td>43.235541</td>\n",
       "      <td>-108.109830</td>\n",
       "    </tr>\n",
       "    <tr>\n",
       "      <th>1639</th>\n",
       "      <td>1996</td>\n",
       "      <td>Tennessee</td>\n",
       "      <td>86.1</td>\n",
       "      <td>13.9</td>\n",
       "      <td>Health Care Access/Coverage</td>\n",
       "      <td>Adults aged 18-64 who have any kind of health ...</td>\n",
       "      <td>35.680941</td>\n",
       "      <td>-85.774491</td>\n",
       "    </tr>\n",
       "  </tbody>\n",
       "</table>\n",
       "</div>"
      ],
      "text/plain": [
       "      Year        State   Yes    No                     Category  \\\n",
       "1635  2010      Alabama  79.9  20.1  Health Care Access/Coverage   \n",
       "1636  1996  Mississippi  82.7  17.3  Health Care Access/Coverage   \n",
       "1637  1996     Virginia  85.4  14.6  Health Care Access/Coverage   \n",
       "1638  2006      Wyoming  82.1  17.9  Health Care Access/Coverage   \n",
       "1639  1996    Tennessee  86.1  13.9  Health Care Access/Coverage   \n",
       "\n",
       "                                              Condition        lat        long  \n",
       "1635  Adults aged 18-64 who have any kind of health ...  32.840571  -86.631861  \n",
       "1636  Adults aged 18-64 who have any kind of health ...  32.745510  -89.538031  \n",
       "1637      Do you have any kind of health care coverage?  37.542681  -78.457890  \n",
       "1638      Do you have any kind of health care coverage?  43.235541 -108.109830  \n",
       "1639  Adults aged 18-64 who have any kind of health ...  35.680941  -85.774491  "
      ]
     },
     "execution_count": 13,
     "metadata": {},
     "output_type": "execute_result"
    }
   ],
   "source": [
    "pre_ACA.tail()"
   ]
  },
  {
   "cell_type": "code",
   "execution_count": 14,
   "metadata": {},
   "outputs": [
    {
     "name": "stdout",
     "output_type": "stream",
     "text": [
      "<class 'pandas.core.frame.DataFrame'>\n",
      "RangeIndex: 1640 entries, 0 to 1639\n",
      "Data columns (total 8 columns):\n",
      "Year         1640 non-null int64\n",
      "State        1640 non-null object\n",
      "Yes          1640 non-null float64\n",
      "No           1640 non-null float64\n",
      "Category     1640 non-null object\n",
      "Condition    1640 non-null object\n",
      "lat          1522 non-null float64\n",
      "long         1522 non-null float64\n",
      "dtypes: float64(4), int64(1), object(3)\n",
      "memory usage: 102.6+ KB\n"
     ]
    }
   ],
   "source": [
    "pre_ACA.info()"
   ]
  },
  {
   "cell_type": "code",
   "execution_count": 15,
   "metadata": {},
   "outputs": [
    {
     "data": {
      "text/plain": [
       "56"
      ]
     },
     "execution_count": 15,
     "metadata": {},
     "output_type": "execute_result"
    }
   ],
   "source": [
    "len(sorted(pre_ACA.State.unique()))#50 states + DC + PR, Guam, VI + 2 Nationwide values"
   ]
  },
  {
   "cell_type": "code",
   "execution_count": 16,
   "metadata": {},
   "outputs": [
    {
     "data": {
      "text/plain": [
       "array([2010, 2009, 2008, 2007, 2006, 2005, 2004, 2003, 2002, 2001, 2000,\n",
       "       1999, 1998, 1997, 1996, 1995])"
      ]
     },
     "execution_count": 16,
     "metadata": {},
     "output_type": "execute_result"
    }
   ],
   "source": [
    "pre_ACA.Year.unique()"
   ]
  },
  {
   "cell_type": "code",
   "execution_count": 17,
   "metadata": {},
   "outputs": [
    {
     "data": {
      "text/plain": [
       "array(['Do you have any kind of health care coverage?',\n",
       "       'Adults aged 18-64 who have any kind of health care coverage'], dtype=object)"
      ]
     },
     "execution_count": 17,
     "metadata": {},
     "output_type": "execute_result"
    }
   ],
   "source": [
    "pre_ACA.Condition.unique()"
   ]
  },
  {
   "cell_type": "code",
   "execution_count": 18,
   "metadata": {},
   "outputs": [
    {
     "data": {
      "text/plain": [
       "array(['Health Care Access/Coverage'], dtype=object)"
      ]
     },
     "execution_count": 18,
     "metadata": {},
     "output_type": "execute_result"
    }
   ],
   "source": [
    "pre_ACA.Category.unique() #redundant"
   ]
  },
  {
   "cell_type": "code",
   "execution_count": 19,
   "metadata": {},
   "outputs": [
    {
     "data": {
      "text/html": [
       "<div>\n",
       "<table border=\"1\" class=\"dataframe\">\n",
       "  <thead>\n",
       "    <tr style=\"text-align: right;\">\n",
       "      <th></th>\n",
       "      <th>Yes</th>\n",
       "      <th>No</th>\n",
       "    </tr>\n",
       "  </thead>\n",
       "  <tbody>\n",
       "    <tr>\n",
       "      <th>count</th>\n",
       "      <td>876.000000</td>\n",
       "      <td>876.000000</td>\n",
       "    </tr>\n",
       "    <tr>\n",
       "      <th>mean</th>\n",
       "      <td>85.830251</td>\n",
       "      <td>14.169977</td>\n",
       "    </tr>\n",
       "    <tr>\n",
       "      <th>std</th>\n",
       "      <td>4.442541</td>\n",
       "      <td>4.442488</td>\n",
       "    </tr>\n",
       "    <tr>\n",
       "      <th>min</th>\n",
       "      <td>69.000000</td>\n",
       "      <td>4.300000</td>\n",
       "    </tr>\n",
       "    <tr>\n",
       "      <th>25%</th>\n",
       "      <td>83.000000</td>\n",
       "      <td>10.900000</td>\n",
       "    </tr>\n",
       "    <tr>\n",
       "      <th>50%</th>\n",
       "      <td>86.400000</td>\n",
       "      <td>13.600000</td>\n",
       "    </tr>\n",
       "    <tr>\n",
       "      <th>75%</th>\n",
       "      <td>89.100000</td>\n",
       "      <td>17.000000</td>\n",
       "    </tr>\n",
       "    <tr>\n",
       "      <th>max</th>\n",
       "      <td>95.700000</td>\n",
       "      <td>31.000000</td>\n",
       "    </tr>\n",
       "  </tbody>\n",
       "</table>\n",
       "</div>"
      ],
      "text/plain": [
       "              Yes          No\n",
       "count  876.000000  876.000000\n",
       "mean    85.830251   14.169977\n",
       "std      4.442541    4.442488\n",
       "min     69.000000    4.300000\n",
       "25%     83.000000   10.900000\n",
       "50%     86.400000   13.600000\n",
       "75%     89.100000   17.000000\n",
       "max     95.700000   31.000000"
      ]
     },
     "execution_count": 19,
     "metadata": {},
     "output_type": "execute_result"
    }
   ],
   "source": [
    "#It's not clear how the 2 different categories differ. For this reason, I will work with the category\n",
    "#'Do you have any kind of health care coverage?' because it's not limited by the age group between 18 and 64.\n",
    "pre_ACA[pre_ACA.Condition == 'Do you have any kind of health care coverage?'][['Yes', 'No']].describe()"
   ]
  },
  {
   "cell_type": "code",
   "execution_count": 20,
   "metadata": {},
   "outputs": [
    {
     "data": {
      "text/html": [
       "<div>\n",
       "<table border=\"1\" class=\"dataframe\">\n",
       "  <thead>\n",
       "    <tr style=\"text-align: right;\">\n",
       "      <th></th>\n",
       "      <th>Yes</th>\n",
       "      <th>No</th>\n",
       "    </tr>\n",
       "  </thead>\n",
       "  <tbody>\n",
       "    <tr>\n",
       "      <th>count</th>\n",
       "      <td>764.000000</td>\n",
       "      <td>764.000000</td>\n",
       "    </tr>\n",
       "    <tr>\n",
       "      <th>mean</th>\n",
       "      <td>83.317408</td>\n",
       "      <td>16.683377</td>\n",
       "    </tr>\n",
       "    <tr>\n",
       "      <th>std</th>\n",
       "      <td>5.073509</td>\n",
       "      <td>5.073334</td>\n",
       "    </tr>\n",
       "    <tr>\n",
       "      <th>min</th>\n",
       "      <td>65.900000</td>\n",
       "      <td>5.000000</td>\n",
       "    </tr>\n",
       "    <tr>\n",
       "      <th>25%</th>\n",
       "      <td>80.000000</td>\n",
       "      <td>13.000000</td>\n",
       "    </tr>\n",
       "    <tr>\n",
       "      <th>50%</th>\n",
       "      <td>84.000000</td>\n",
       "      <td>16.000000</td>\n",
       "    </tr>\n",
       "    <tr>\n",
       "      <th>75%</th>\n",
       "      <td>87.000000</td>\n",
       "      <td>20.000000</td>\n",
       "    </tr>\n",
       "    <tr>\n",
       "      <th>max</th>\n",
       "      <td>95.000000</td>\n",
       "      <td>34.100000</td>\n",
       "    </tr>\n",
       "  </tbody>\n",
       "</table>\n",
       "</div>"
      ],
      "text/plain": [
       "              Yes          No\n",
       "count  764.000000  764.000000\n",
       "mean    83.317408   16.683377\n",
       "std      5.073509    5.073334\n",
       "min     65.900000    5.000000\n",
       "25%     80.000000   13.000000\n",
       "50%     84.000000   16.000000\n",
       "75%     87.000000   20.000000\n",
       "max     95.000000   34.100000"
      ]
     },
     "execution_count": 20,
     "metadata": {},
     "output_type": "execute_result"
    }
   ],
   "source": [
    "#Print stats for comparison.\n",
    "pre_ACA[pre_ACA.Condition != 'Do you have any kind of health care coverage?'][['Yes', 'No']].describe()"
   ]
  },
  {
   "cell_type": "code",
   "execution_count": 21,
   "metadata": {
    "collapsed": true
   },
   "outputs": [],
   "source": [
    "#Select a subset of the data\n",
    "subset = pre_ACA[(pre_ACA.State.str.contains('Nationwide') == False)\\\n",
    "        & (pre_ACA.Condition == 'Do you have any kind of health care coverage?')] #844 rows"
   ]
  },
  {
   "cell_type": "code",
   "execution_count": 22,
   "metadata": {
    "collapsed": true
   },
   "outputs": [],
   "source": [
    "#Drop redundant columns\n",
    "subset = subset.drop('Category', axis=1)\n",
    "subset = subset.drop('Condition', axis=1)"
   ]
  },
  {
   "cell_type": "code",
   "execution_count": 23,
   "metadata": {},
   "outputs": [
    {
     "data": {
      "text/html": [
       "<div>\n",
       "<table border=\"1\" class=\"dataframe\">\n",
       "  <thead>\n",
       "    <tr style=\"text-align: right;\">\n",
       "      <th></th>\n",
       "      <th>code</th>\n",
       "      <th>State</th>\n",
       "    </tr>\n",
       "  </thead>\n",
       "  <tbody>\n",
       "    <tr>\n",
       "      <th>49</th>\n",
       "      <td>WY</td>\n",
       "      <td>Wyoming</td>\n",
       "    </tr>\n",
       "    <tr>\n",
       "      <th>50</th>\n",
       "      <td>DC</td>\n",
       "      <td>District of Columbia</td>\n",
       "    </tr>\n",
       "    <tr>\n",
       "      <th>51</th>\n",
       "      <td>PR</td>\n",
       "      <td>Puerto Rico</td>\n",
       "    </tr>\n",
       "    <tr>\n",
       "      <th>52</th>\n",
       "      <td>GU</td>\n",
       "      <td>Guam</td>\n",
       "    </tr>\n",
       "    <tr>\n",
       "      <th>53</th>\n",
       "      <td>VI</td>\n",
       "      <td>Virgin Islands</td>\n",
       "    </tr>\n",
       "  </tbody>\n",
       "</table>\n",
       "</div>"
      ],
      "text/plain": [
       "   code                 State\n",
       "49   WY               Wyoming\n",
       "50   DC  District of Columbia\n",
       "51   PR           Puerto Rico\n",
       "52   GU                  Guam\n",
       "53   VI        Virgin Islands"
      ]
     },
     "execution_count": 23,
     "metadata": {},
     "output_type": "execute_result"
    }
   ],
   "source": [
    "#Load file with state codes\n",
    "state_codes = pd.read_csv('Data/state_codes.csv')\n",
    "state_codes = state_codes[['code','state']]\n",
    "state_codes.columns = ['code', 'State']\n",
    "state_codes.tail()"
   ]
  },
  {
   "cell_type": "code",
   "execution_count": 24,
   "metadata": {
    "collapsed": true
   },
   "outputs": [],
   "source": [
    "#Merge state code into dataset\n",
    "subset= subset.merge(state_codes, how='left', on='State')"
   ]
  },
  {
   "cell_type": "code",
   "execution_count": 25,
   "metadata": {},
   "outputs": [
    {
     "data": {
      "text/html": [
       "<div>\n",
       "<table border=\"1\" class=\"dataframe\">\n",
       "  <thead>\n",
       "    <tr style=\"text-align: right;\">\n",
       "      <th></th>\n",
       "      <th>Year</th>\n",
       "      <th>State</th>\n",
       "      <th>Yes</th>\n",
       "      <th>No</th>\n",
       "      <th>lat</th>\n",
       "      <th>long</th>\n",
       "      <th>code</th>\n",
       "    </tr>\n",
       "  </thead>\n",
       "  <tbody>\n",
       "    <tr>\n",
       "      <th>23</th>\n",
       "      <td>2002</td>\n",
       "      <td>Virgin Islands</td>\n",
       "      <td>69.0</td>\n",
       "      <td>31.0</td>\n",
       "      <td>NaN</td>\n",
       "      <td>NaN</td>\n",
       "      <td>VI</td>\n",
       "    </tr>\n",
       "    <tr>\n",
       "      <th>24</th>\n",
       "      <td>2001</td>\n",
       "      <td>Guam</td>\n",
       "      <td>81.4</td>\n",
       "      <td>18.6</td>\n",
       "      <td>NaN</td>\n",
       "      <td>NaN</td>\n",
       "      <td>GU</td>\n",
       "    </tr>\n",
       "    <tr>\n",
       "      <th>25</th>\n",
       "      <td>2001</td>\n",
       "      <td>Puerto Rico</td>\n",
       "      <td>91.5</td>\n",
       "      <td>8.5</td>\n",
       "      <td>NaN</td>\n",
       "      <td>NaN</td>\n",
       "      <td>PR</td>\n",
       "    </tr>\n",
       "    <tr>\n",
       "      <th>26</th>\n",
       "      <td>2001</td>\n",
       "      <td>Virgin Islands</td>\n",
       "      <td>71.7</td>\n",
       "      <td>28.3</td>\n",
       "      <td>NaN</td>\n",
       "      <td>NaN</td>\n",
       "      <td>VI</td>\n",
       "    </tr>\n",
       "    <tr>\n",
       "      <th>27</th>\n",
       "      <td>2000</td>\n",
       "      <td>Puerto Rico</td>\n",
       "      <td>91.0</td>\n",
       "      <td>9.0</td>\n",
       "      <td>NaN</td>\n",
       "      <td>NaN</td>\n",
       "      <td>PR</td>\n",
       "    </tr>\n",
       "    <tr>\n",
       "      <th>28</th>\n",
       "      <td>1999</td>\n",
       "      <td>Puerto Rico</td>\n",
       "      <td>88.3</td>\n",
       "      <td>11.7</td>\n",
       "      <td>NaN</td>\n",
       "      <td>NaN</td>\n",
       "      <td>PR</td>\n",
       "    </tr>\n",
       "    <tr>\n",
       "      <th>29</th>\n",
       "      <td>1998</td>\n",
       "      <td>Puerto Rico</td>\n",
       "      <td>89.0</td>\n",
       "      <td>11.0</td>\n",
       "      <td>NaN</td>\n",
       "      <td>NaN</td>\n",
       "      <td>PR</td>\n",
       "    </tr>\n",
       "    <tr>\n",
       "      <th>30</th>\n",
       "      <td>1997</td>\n",
       "      <td>Puerto Rico</td>\n",
       "      <td>89.7</td>\n",
       "      <td>10.3</td>\n",
       "      <td>NaN</td>\n",
       "      <td>NaN</td>\n",
       "      <td>PR</td>\n",
       "    </tr>\n",
       "    <tr>\n",
       "      <th>31</th>\n",
       "      <td>1996</td>\n",
       "      <td>Puerto Rico</td>\n",
       "      <td>86.4</td>\n",
       "      <td>13.6</td>\n",
       "      <td>NaN</td>\n",
       "      <td>NaN</td>\n",
       "      <td>PR</td>\n",
       "    </tr>\n",
       "    <tr>\n",
       "      <th>32</th>\n",
       "      <td>2007</td>\n",
       "      <td>Virginia</td>\n",
       "      <td>88.2</td>\n",
       "      <td>11.8</td>\n",
       "      <td>37.542681</td>\n",
       "      <td>-78.457890</td>\n",
       "      <td>VA</td>\n",
       "    </tr>\n",
       "    <tr>\n",
       "      <th>33</th>\n",
       "      <td>1999</td>\n",
       "      <td>Arizona</td>\n",
       "      <td>85.8</td>\n",
       "      <td>14.2</td>\n",
       "      <td>34.865970</td>\n",
       "      <td>-111.763811</td>\n",
       "      <td>AZ</td>\n",
       "    </tr>\n",
       "    <tr>\n",
       "      <th>34</th>\n",
       "      <td>2001</td>\n",
       "      <td>Idaho</td>\n",
       "      <td>85.2</td>\n",
       "      <td>14.8</td>\n",
       "      <td>43.682630</td>\n",
       "      <td>-114.363730</td>\n",
       "      <td>ID</td>\n",
       "    </tr>\n",
       "    <tr>\n",
       "      <th>35</th>\n",
       "      <td>2009</td>\n",
       "      <td>Missouri</td>\n",
       "      <td>86.4</td>\n",
       "      <td>13.6</td>\n",
       "      <td>38.635791</td>\n",
       "      <td>-92.566300</td>\n",
       "      <td>MO</td>\n",
       "    </tr>\n",
       "    <tr>\n",
       "      <th>36</th>\n",
       "      <td>2005</td>\n",
       "      <td>Oklahoma</td>\n",
       "      <td>79.3</td>\n",
       "      <td>20.7</td>\n",
       "      <td>35.472031</td>\n",
       "      <td>-97.521070</td>\n",
       "      <td>OK</td>\n",
       "    </tr>\n",
       "    <tr>\n",
       "      <th>37</th>\n",
       "      <td>1996</td>\n",
       "      <td>Montana</td>\n",
       "      <td>84.4</td>\n",
       "      <td>15.6</td>\n",
       "      <td>47.066529</td>\n",
       "      <td>-109.424421</td>\n",
       "      <td>MT</td>\n",
       "    </tr>\n",
       "  </tbody>\n",
       "</table>\n",
       "</div>"
      ],
      "text/plain": [
       "    Year           State   Yes    No        lat        long code\n",
       "23  2002  Virgin Islands  69.0  31.0        NaN         NaN   VI\n",
       "24  2001            Guam  81.4  18.6        NaN         NaN   GU\n",
       "25  2001     Puerto Rico  91.5   8.5        NaN         NaN   PR\n",
       "26  2001  Virgin Islands  71.7  28.3        NaN         NaN   VI\n",
       "27  2000     Puerto Rico  91.0   9.0        NaN         NaN   PR\n",
       "28  1999     Puerto Rico  88.3  11.7        NaN         NaN   PR\n",
       "29  1998     Puerto Rico  89.0  11.0        NaN         NaN   PR\n",
       "30  1997     Puerto Rico  89.7  10.3        NaN         NaN   PR\n",
       "31  1996     Puerto Rico  86.4  13.6        NaN         NaN   PR\n",
       "32  2007        Virginia  88.2  11.8  37.542681  -78.457890   VA\n",
       "33  1999         Arizona  85.8  14.2  34.865970 -111.763811   AZ\n",
       "34  2001           Idaho  85.2  14.8  43.682630 -114.363730   ID\n",
       "35  2009        Missouri  86.4  13.6  38.635791  -92.566300   MO\n",
       "36  2005        Oklahoma  79.3  20.7  35.472031  -97.521070   OK\n",
       "37  1996         Montana  84.4  15.6  47.066529 -109.424421   MT"
      ]
     },
     "execution_count": 25,
     "metadata": {},
     "output_type": "execute_result"
    }
   ],
   "source": [
    "#Check data\n",
    "subset[23:38]"
   ]
  },
  {
   "cell_type": "code",
   "execution_count": 26,
   "metadata": {},
   "outputs": [
    {
     "data": {
      "text/html": [
       "<div>\n",
       "<table border=\"1\" class=\"dataframe\">\n",
       "  <thead>\n",
       "    <tr style=\"text-align: right;\">\n",
       "      <th>Year</th>\n",
       "      <th>1995</th>\n",
       "      <th>1996</th>\n",
       "      <th>1997</th>\n",
       "      <th>1998</th>\n",
       "      <th>1999</th>\n",
       "      <th>2000</th>\n",
       "      <th>2001</th>\n",
       "      <th>2002</th>\n",
       "      <th>2003</th>\n",
       "      <th>2004</th>\n",
       "      <th>2005</th>\n",
       "      <th>2006</th>\n",
       "      <th>2007</th>\n",
       "      <th>2008</th>\n",
       "      <th>2009</th>\n",
       "      <th>2010</th>\n",
       "    </tr>\n",
       "    <tr>\n",
       "      <th>code</th>\n",
       "      <th></th>\n",
       "      <th></th>\n",
       "      <th></th>\n",
       "      <th></th>\n",
       "      <th></th>\n",
       "      <th></th>\n",
       "      <th></th>\n",
       "      <th></th>\n",
       "      <th></th>\n",
       "      <th></th>\n",
       "      <th></th>\n",
       "      <th></th>\n",
       "      <th></th>\n",
       "      <th></th>\n",
       "      <th></th>\n",
       "      <th></th>\n",
       "    </tr>\n",
       "  </thead>\n",
       "  <tbody>\n",
       "    <tr>\n",
       "      <th>AK</th>\n",
       "      <td>84.7</td>\n",
       "      <td>79.2</td>\n",
       "      <td>78.7</td>\n",
       "      <td>79.2</td>\n",
       "      <td>76.7</td>\n",
       "      <td>81.9</td>\n",
       "      <td>81.2</td>\n",
       "      <td>80.9</td>\n",
       "      <td>82.5</td>\n",
       "      <td>83.5</td>\n",
       "      <td>82.9</td>\n",
       "      <td>82.5</td>\n",
       "      <td>84.8</td>\n",
       "      <td>82.9</td>\n",
       "      <td>82.3</td>\n",
       "      <td>82.4</td>\n",
       "    </tr>\n",
       "    <tr>\n",
       "      <th>AL</th>\n",
       "      <td>85.7</td>\n",
       "      <td>84.0</td>\n",
       "      <td>85.6</td>\n",
       "      <td>83.6</td>\n",
       "      <td>84.9</td>\n",
       "      <td>83.9</td>\n",
       "      <td>85.0</td>\n",
       "      <td>84.9</td>\n",
       "      <td>85.4</td>\n",
       "      <td>82.9</td>\n",
       "      <td>83.1</td>\n",
       "      <td>84.0</td>\n",
       "      <td>85.3</td>\n",
       "      <td>84.0</td>\n",
       "      <td>84.5</td>\n",
       "      <td>83.8</td>\n",
       "    </tr>\n",
       "    <tr>\n",
       "      <th>AR</th>\n",
       "      <td>84.6</td>\n",
       "      <td>82.1</td>\n",
       "      <td>82.7</td>\n",
       "      <td>84.5</td>\n",
       "      <td>83.9</td>\n",
       "      <td>82.8</td>\n",
       "      <td>83.9</td>\n",
       "      <td>81.1</td>\n",
       "      <td>80.8</td>\n",
       "      <td>81.4</td>\n",
       "      <td>80.8</td>\n",
       "      <td>79.4</td>\n",
       "      <td>79.7</td>\n",
       "      <td>81.7</td>\n",
       "      <td>80.0</td>\n",
       "      <td>78.7</td>\n",
       "    </tr>\n",
       "    <tr>\n",
       "      <th>AZ</th>\n",
       "      <td>84.8</td>\n",
       "      <td>83.0</td>\n",
       "      <td>85.4</td>\n",
       "      <td>86.8</td>\n",
       "      <td>85.8</td>\n",
       "      <td>82.9</td>\n",
       "      <td>83.1</td>\n",
       "      <td>83.9</td>\n",
       "      <td>83.3</td>\n",
       "      <td>82.1</td>\n",
       "      <td>79.1</td>\n",
       "      <td>80.4</td>\n",
       "      <td>81.9</td>\n",
       "      <td>82.2</td>\n",
       "      <td>85.0</td>\n",
       "      <td>86.7</td>\n",
       "    </tr>\n",
       "    <tr>\n",
       "      <th>CA</th>\n",
       "      <td>80.5</td>\n",
       "      <td>80.5</td>\n",
       "      <td>80.7</td>\n",
       "      <td>81.9</td>\n",
       "      <td>80.7</td>\n",
       "      <td>81.6</td>\n",
       "      <td>85.0</td>\n",
       "      <td>84.6</td>\n",
       "      <td>83.9</td>\n",
       "      <td>82.7</td>\n",
       "      <td>82.8</td>\n",
       "      <td>82.5</td>\n",
       "      <td>84.2</td>\n",
       "      <td>82.5</td>\n",
       "      <td>83.0</td>\n",
       "      <td>82.2</td>\n",
       "    </tr>\n",
       "    <tr>\n",
       "      <th>CO</th>\n",
       "      <td>85.8</td>\n",
       "      <td>86.5</td>\n",
       "      <td>88.1</td>\n",
       "      <td>85.1</td>\n",
       "      <td>86.1</td>\n",
       "      <td>86.5</td>\n",
       "      <td>84.7</td>\n",
       "      <td>83.4</td>\n",
       "      <td>85.0</td>\n",
       "      <td>84.3</td>\n",
       "      <td>83.9</td>\n",
       "      <td>83.0</td>\n",
       "      <td>82.5</td>\n",
       "      <td>83.7</td>\n",
       "      <td>83.3</td>\n",
       "      <td>83.6</td>\n",
       "    </tr>\n",
       "    <tr>\n",
       "      <th>CT</th>\n",
       "      <td>90.3</td>\n",
       "      <td>90.7</td>\n",
       "      <td>90.6</td>\n",
       "      <td>91.2</td>\n",
       "      <td>89.9</td>\n",
       "      <td>90.8</td>\n",
       "      <td>90.5</td>\n",
       "      <td>89.1</td>\n",
       "      <td>89.6</td>\n",
       "      <td>90.5</td>\n",
       "      <td>91.0</td>\n",
       "      <td>89.9</td>\n",
       "      <td>90.6</td>\n",
       "      <td>91.6</td>\n",
       "      <td>90.6</td>\n",
       "      <td>90.2</td>\n",
       "    </tr>\n",
       "    <tr>\n",
       "      <th>DC</th>\n",
       "      <td>NaN</td>\n",
       "      <td>86.6</td>\n",
       "      <td>88.4</td>\n",
       "      <td>88.4</td>\n",
       "      <td>86.9</td>\n",
       "      <td>88.5</td>\n",
       "      <td>87.7</td>\n",
       "      <td>89.3</td>\n",
       "      <td>90.1</td>\n",
       "      <td>89.0</td>\n",
       "      <td>90.3</td>\n",
       "      <td>91.3</td>\n",
       "      <td>91.6</td>\n",
       "      <td>90.9</td>\n",
       "      <td>94.0</td>\n",
       "      <td>93.0</td>\n",
       "    </tr>\n",
       "    <tr>\n",
       "      <th>DE</th>\n",
       "      <td>88.7</td>\n",
       "      <td>89.2</td>\n",
       "      <td>89.2</td>\n",
       "      <td>92.0</td>\n",
       "      <td>90.4</td>\n",
       "      <td>91.8</td>\n",
       "      <td>91.4</td>\n",
       "      <td>91.2</td>\n",
       "      <td>91.3</td>\n",
       "      <td>91.0</td>\n",
       "      <td>92.3</td>\n",
       "      <td>90.4</td>\n",
       "      <td>92.3</td>\n",
       "      <td>93.6</td>\n",
       "      <td>90.4</td>\n",
       "      <td>90.0</td>\n",
       "    </tr>\n",
       "    <tr>\n",
       "      <th>FL</th>\n",
       "      <td>85.0</td>\n",
       "      <td>82.5</td>\n",
       "      <td>82.4</td>\n",
       "      <td>82.4</td>\n",
       "      <td>83.8</td>\n",
       "      <td>82.9</td>\n",
       "      <td>83.2</td>\n",
       "      <td>82.0</td>\n",
       "      <td>81.1</td>\n",
       "      <td>80.4</td>\n",
       "      <td>79.7</td>\n",
       "      <td>79.6</td>\n",
       "      <td>81.4</td>\n",
       "      <td>82.5</td>\n",
       "      <td>81.3</td>\n",
       "      <td>83.0</td>\n",
       "    </tr>\n",
       "  </tbody>\n",
       "</table>\n",
       "</div>"
      ],
      "text/plain": [
       "Year  1995  1996  1997  1998  1999  2000  2001  2002  2003  2004  2005  2006  \\\n",
       "code                                                                           \n",
       "AK    84.7  79.2  78.7  79.2  76.7  81.9  81.2  80.9  82.5  83.5  82.9  82.5   \n",
       "AL    85.7  84.0  85.6  83.6  84.9  83.9  85.0  84.9  85.4  82.9  83.1  84.0   \n",
       "AR    84.6  82.1  82.7  84.5  83.9  82.8  83.9  81.1  80.8  81.4  80.8  79.4   \n",
       "AZ    84.8  83.0  85.4  86.8  85.8  82.9  83.1  83.9  83.3  82.1  79.1  80.4   \n",
       "CA    80.5  80.5  80.7  81.9  80.7  81.6  85.0  84.6  83.9  82.7  82.8  82.5   \n",
       "CO    85.8  86.5  88.1  85.1  86.1  86.5  84.7  83.4  85.0  84.3  83.9  83.0   \n",
       "CT    90.3  90.7  90.6  91.2  89.9  90.8  90.5  89.1  89.6  90.5  91.0  89.9   \n",
       "DC     NaN  86.6  88.4  88.4  86.9  88.5  87.7  89.3  90.1  89.0  90.3  91.3   \n",
       "DE    88.7  89.2  89.2  92.0  90.4  91.8  91.4  91.2  91.3  91.0  92.3  90.4   \n",
       "FL    85.0  82.5  82.4  82.4  83.8  82.9  83.2  82.0  81.1  80.4  79.7  79.6   \n",
       "\n",
       "Year  2007  2008  2009  2010  \n",
       "code                          \n",
       "AK    84.8  82.9  82.3  82.4  \n",
       "AL    85.3  84.0  84.5  83.8  \n",
       "AR    79.7  81.7  80.0  78.7  \n",
       "AZ    81.9  82.2  85.0  86.7  \n",
       "CA    84.2  82.5  83.0  82.2  \n",
       "CO    82.5  83.7  83.3  83.6  \n",
       "CT    90.6  91.6  90.6  90.2  \n",
       "DC    91.6  90.9  94.0  93.0  \n",
       "DE    92.3  93.6  90.4  90.0  \n",
       "FL    81.4  82.5  81.3  83.0  "
      ]
     },
     "execution_count": 26,
     "metadata": {},
     "output_type": "execute_result"
    }
   ],
   "source": [
    "#Create pivot table with percentage of insured people per state per year\n",
    "has_insurance = subset.pivot('code','Year','Yes')\n",
    "has_insurance.head(10)"
   ]
  },
  {
   "cell_type": "code",
   "execution_count": 27,
   "metadata": {
    "collapsed": true
   },
   "outputs": [],
   "source": [
    "#Define lists with US Census regions\n",
    "\n",
    "Northeast = ['Connecticut', 'Maine', 'Massachusetts', 'New Hampshire', 'Rhode Island', 'Vermont', 'Delaware', \n",
    "             'New Jersey', 'New York', 'Pennsylvania']\n",
    "\n",
    "Midwest = ['Illinois', 'Indiana', 'Michigan', 'Ohio', 'Wisconsin', 'Iowa', 'Kansas', 'Minnesota', 'Missouri', \n",
    "           'Nebraska', 'North Dakota', 'South Dakota']\n",
    "\n",
    "South = ['Florida', 'Georgia', 'Maryland', 'North Carolina', 'South Carolina', 'Virginia', 'District of Columbia',\n",
    "         'West Virginia', 'Alabama', 'Kentucky', 'Mississippi', 'Tennessee', 'Arkansas', 'Louisiana', \n",
    "         'Oklahoma', 'Texas']\n",
    "\n",
    "West = ['Arizona', 'Colorado', 'Idaho', 'Montana', 'Nevada', 'New Mexico', 'Utah', 'Wyoming', 'Alaska', \n",
    "        'California', 'Hawaii', 'Oregon', 'Washington']\n",
    "\n",
    "Territories = ['Puerto Rico', 'Guam', 'Virgin Islands']"
   ]
  },
  {
   "cell_type": "code",
   "execution_count": 28,
   "metadata": {
    "collapsed": true
   },
   "outputs": [],
   "source": [
    "#Create series with grouped data per region\n",
    "northeast = subset[subset.State.isin(Northeast)].groupby(['Year']).Yes.mean()\n",
    "midwest = subset[subset.State.isin(Midwest)].groupby(['Year']).Yes.mean()\n",
    "south = subset[subset.State.isin(South)].groupby(['Year']).Yes.mean()\n",
    "west = subset[subset.State.isin(West)].groupby(['Year']).Yes.mean()\n",
    "territories = subset[subset.State.isin(Territories)].groupby(['Year']).Yes.mean()"
   ]
  },
  {
   "cell_type": "markdown",
   "metadata": {},
   "source": [
    "## Fig1: Visualize the estimated percentage average of insured people per region before ACA"
   ]
  },
  {
   "cell_type": "code",
   "execution_count": 29,
   "metadata": {},
   "outputs": [
    {
     "data": {
      "image/png": "[encoded data removed]",
      "text/plain": [
       "<matplotlib.figure.Figure at 0x1107b8d90>"
      ]
     },
     "metadata": {
      "image/png": {
       "height": 376,
       "width": 947
      }
     },
     "output_type": "display_data"
    }
   ],
   "source": [
    "#Create plot with percentage of people who have answered to have some form of insurance (mean per US census region)\n",
    "\n",
    "fig, ax = plt.subplots(1,1, figsize=(16, 6))\n",
    "\n",
    "northeast.plot(label='Northeast', marker='o')\n",
    "midwest.plot(label='Midwest', marker='D')\n",
    "south.plot(label='South', marker='o')\n",
    "west.plot(label='West', marker='D')\n",
    "territories.plot(label='Territories', marker='s')\n",
    "\n",
    "ax.set_facecolor('#F9F9F9')\n",
    "ax.grid(color='#E4E4E4', linestyle='dotted', linewidth=1, axis ='y')\n",
    "\n",
    "plt.ylim(75, 100)\n",
    "plt.title('Percentage of People Insured Over the Years', fontsize=16, color='navy')\n",
    "plt.xlabel('')\n",
    "plt.tick_params(labelsize=12)\n",
    "plt.legend(loc='upper right');"
   ]
  },
  {
   "cell_type": "markdown",
   "metadata": {},
   "source": [
    "# Load and process dataset with information after the ACA (1995-2010)"
   ]
  },
  {
   "cell_type": "code",
   "execution_count": 30,
   "metadata": {
    "collapsed": true
   },
   "outputs": [],
   "source": [
    "#Source: https://www.kaggle.com/hhs/health-insurance\n",
    "post_ACA = pd.read_csv('Data/HC_access_afterACA.csv')"
   ]
  },
  {
   "cell_type": "code",
   "execution_count": 83,
   "metadata": {},
   "outputs": [
    {
     "data": {
      "text/html": [
       "<div>\n",
       "<table border=\"1\" class=\"dataframe\">\n",
       "  <thead>\n",
       "    <tr style=\"text-align: right;\">\n",
       "      <th></th>\n",
       "      <th>State</th>\n",
       "      <th>Uninsured Rate (2010)</th>\n",
       "      <th>Uninsured Rate (2015)</th>\n",
       "      <th>Uninsured Rate Change (2010-2015)</th>\n",
       "      <th>Health Insurance Coverage Change (2010-2015)</th>\n",
       "      <th>Employer Health Insurance Coverage (2015)</th>\n",
       "      <th>Marketplace Health Insurance Coverage (2016)</th>\n",
       "      <th>Marketplace Tax Credits (2016)</th>\n",
       "      <th>Average Monthly Tax Credit (2016)</th>\n",
       "      <th>State Medicaid Expansion (2016)</th>\n",
       "      <th>Medicaid Enrollment (2013)</th>\n",
       "      <th>Medicaid Enrollment (2016)</th>\n",
       "      <th>Medicaid Enrollment Change (2013-2016)</th>\n",
       "      <th>Medicare Enrollment (2016)</th>\n",
       "      <th>code</th>\n",
       "      <th>insured_pop</th>\n",
       "      <th>medicaid_delta</th>\n",
       "      <th>text</th>\n",
       "    </tr>\n",
       "  </thead>\n",
       "  <tbody>\n",
       "    <tr>\n",
       "      <th>47</th>\n",
       "      <td>Washington</td>\n",
       "      <td>14.2</td>\n",
       "      <td>6.6</td>\n",
       "      <td>-7.6</td>\n",
       "      <td>537000</td>\n",
       "      <td>3986000</td>\n",
       "      <td>158245</td>\n",
       "      <td>110476</td>\n",
       "      <td>238</td>\n",
       "      <td>True</td>\n",
       "      <td>1117576.0</td>\n",
       "      <td>1788536</td>\n",
       "      <td>670960.0</td>\n",
       "      <td>1238649</td>\n",
       "      <td>WA</td>\n",
       "      <td>7171430</td>\n",
       "      <td>4.165860</td>\n",
       "      <td>Washington&lt;br&gt;Expanded Medicaid: True&lt;br&gt;Medic...</td>\n",
       "    </tr>\n",
       "    <tr>\n",
       "      <th>48</th>\n",
       "      <td>West Virginia</td>\n",
       "      <td>14.6</td>\n",
       "      <td>6.0</td>\n",
       "      <td>-8.6</td>\n",
       "      <td>156000</td>\n",
       "      <td>976000</td>\n",
       "      <td>33235</td>\n",
       "      <td>29163</td>\n",
       "      <td>388</td>\n",
       "      <td>True</td>\n",
       "      <td>354544.0</td>\n",
       "      <td>575645</td>\n",
       "      <td>221101.0</td>\n",
       "      <td>423500</td>\n",
       "      <td>WV</td>\n",
       "      <td>2008380</td>\n",
       "      <td>1.372773</td>\n",
       "      <td>West Virginia&lt;br&gt;Expanded Medicaid: True&lt;br&gt;Me...</td>\n",
       "    </tr>\n",
       "    <tr>\n",
       "      <th>49</th>\n",
       "      <td>Wisconsin</td>\n",
       "      <td>9.4</td>\n",
       "      <td>5.7</td>\n",
       "      <td>-3.7</td>\n",
       "      <td>211000</td>\n",
       "      <td>3521000</td>\n",
       "      <td>224208</td>\n",
       "      <td>190542</td>\n",
       "      <td>332</td>\n",
       "      <td>False</td>\n",
       "      <td>985531.0</td>\n",
       "      <td>1046897</td>\n",
       "      <td>61366.0</td>\n",
       "      <td>1084854</td>\n",
       "      <td>WI</td>\n",
       "      <td>5876959</td>\n",
       "      <td>0.381010</td>\n",
       "      <td>Wisconsin&lt;br&gt;Expanded Medicaid: False&lt;br&gt;Medic...</td>\n",
       "    </tr>\n",
       "    <tr>\n",
       "      <th>50</th>\n",
       "      <td>Wyoming</td>\n",
       "      <td>14.9</td>\n",
       "      <td>11.5</td>\n",
       "      <td>-3.4</td>\n",
       "      <td>20000</td>\n",
       "      <td>335000</td>\n",
       "      <td>22076</td>\n",
       "      <td>20313</td>\n",
       "      <td>459</td>\n",
       "      <td>False</td>\n",
       "      <td>67518.0</td>\n",
       "      <td>63583</td>\n",
       "      <td>-3935.0</td>\n",
       "      <td>99128</td>\n",
       "      <td>WY</td>\n",
       "      <td>519787</td>\n",
       "      <td>-0.024432</td>\n",
       "      <td>Wyoming&lt;br&gt;Expanded Medicaid: False&lt;br&gt;Medicai...</td>\n",
       "    </tr>\n",
       "    <tr>\n",
       "      <th>51</th>\n",
       "      <td>United States</td>\n",
       "      <td>15.5</td>\n",
       "      <td>9.4</td>\n",
       "      <td>6.1</td>\n",
       "      <td>19304000</td>\n",
       "      <td>172292000</td>\n",
       "      <td>11081330</td>\n",
       "      <td>9389609</td>\n",
       "      <td>291</td>\n",
       "      <td>NaN</td>\n",
       "      <td>56392477.0</td>\n",
       "      <td>73532931</td>\n",
       "      <td>16106157.0</td>\n",
       "      <td>57149984</td>\n",
       "      <td>US</td>\n",
       "      <td>314056245</td>\n",
       "      <td>100.000000</td>\n",
       "      <td>United States&lt;br&gt;Expanded Medicaid: nan&lt;br&gt;Med...</td>\n",
       "    </tr>\n",
       "  </tbody>\n",
       "</table>\n",
       "</div>"
      ],
      "text/plain": [
       "            State  Uninsured Rate (2010)  Uninsured Rate (2015)  \\\n",
       "47     Washington                   14.2                    6.6   \n",
       "48  West Virginia                   14.6                    6.0   \n",
       "49      Wisconsin                    9.4                    5.7   \n",
       "50        Wyoming                   14.9                   11.5   \n",
       "51  United States                   15.5                    9.4   \n",
       "\n",
       "    Uninsured Rate Change (2010-2015)  \\\n",
       "47                               -7.6   \n",
       "48                               -8.6   \n",
       "49                               -3.7   \n",
       "50                               -3.4   \n",
       "51                                6.1   \n",
       "\n",
       "    Health Insurance Coverage Change (2010-2015)  \\\n",
       "47                                        537000   \n",
       "48                                        156000   \n",
       "49                                        211000   \n",
       "50                                         20000   \n",
       "51                                      19304000   \n",
       "\n",
       "    Employer Health Insurance Coverage (2015)  \\\n",
       "47                                    3986000   \n",
       "48                                     976000   \n",
       "49                                    3521000   \n",
       "50                                     335000   \n",
       "51                                  172292000   \n",
       "\n",
       "    Marketplace Health Insurance Coverage (2016)  \\\n",
       "47                                        158245   \n",
       "48                                         33235   \n",
       "49                                        224208   \n",
       "50                                         22076   \n",
       "51                                      11081330   \n",
       "\n",
       "    Marketplace Tax Credits (2016)  Average Monthly Tax Credit (2016)  \\\n",
       "47                          110476                                238   \n",
       "48                           29163                                388   \n",
       "49                          190542                                332   \n",
       "50                           20313                                459   \n",
       "51                         9389609                                291   \n",
       "\n",
       "   State Medicaid Expansion (2016)  Medicaid Enrollment (2013)  \\\n",
       "47                            True                   1117576.0   \n",
       "48                            True                    354544.0   \n",
       "49                           False                    985531.0   \n",
       "50                           False                     67518.0   \n",
       "51                             NaN                  56392477.0   \n",
       "\n",
       "    Medicaid Enrollment (2016)  Medicaid Enrollment Change (2013-2016)  \\\n",
       "47                     1788536                                670960.0   \n",
       "48                      575645                                221101.0   \n",
       "49                     1046897                                 61366.0   \n",
       "50                       63583                                 -3935.0   \n",
       "51                    73532931                              16106157.0   \n",
       "\n",
       "    Medicare Enrollment (2016) code  insured_pop  medicaid_delta  \\\n",
       "47                     1238649   WA      7171430        4.165860   \n",
       "48                      423500   WV      2008380        1.372773   \n",
       "49                     1084854   WI      5876959        0.381010   \n",
       "50                       99128   WY       519787       -0.024432   \n",
       "51                    57149984   US    314056245      100.000000   \n",
       "\n",
       "                                                 text  \n",
       "47  Washington<br>Expanded Medicaid: True<br>Medic...  \n",
       "48  West Virginia<br>Expanded Medicaid: True<br>Me...  \n",
       "49  Wisconsin<br>Expanded Medicaid: False<br>Medic...  \n",
       "50  Wyoming<br>Expanded Medicaid: False<br>Medicai...  \n",
       "51  United States<br>Expanded Medicaid: nan<br>Med...  "
      ]
     },
     "execution_count": 83,
     "metadata": {},
     "output_type": "execute_result"
    }
   ],
   "source": [
    "post_ACA.tail()"
   ]
  },
  {
   "cell_type": "code",
   "execution_count": 32,
   "metadata": {
    "collapsed": true
   },
   "outputs": [],
   "source": [
    "cols = ['Uninsured Rate (2010)', 'Uninsured Rate (2015)','Uninsured Rate Change (2010-2015)'] #% values"
   ]
  },
  {
   "cell_type": "code",
   "execution_count": 33,
   "metadata": {
    "collapsed": true
   },
   "outputs": [],
   "source": [
    "#Remove % from string values\n",
    "for col in cols:\n",
    "    post_ACA[col] = post_ACA[col].apply(lambda x: re.sub('%', '', x))"
   ]
  },
  {
   "cell_type": "code",
   "execution_count": 34,
   "metadata": {
    "collapsed": true
   },
   "outputs": [],
   "source": [
    "#Remove $ from string values\n",
    "post_ACA['Average Monthly Tax Credit (2016)'] = \\\n",
    "post_ACA['Average Monthly Tax Credit (2016)'].apply(lambda x: x[1:-1])"
   ]
  },
  {
   "cell_type": "code",
   "execution_count": 35,
   "metadata": {
    "collapsed": true
   },
   "outputs": [],
   "source": [
    "#Convert string datatypes to numeric\n",
    "for col in cols:\n",
    "    post_ACA[col] = pd.to_numeric(post_ACA[col])\n",
    "    \n",
    "post_ACA['Average Monthly Tax Credit (2016)'] = pd.to_numeric(post_ACA['Average Monthly Tax Credit (2016)'])"
   ]
  },
  {
   "cell_type": "code",
   "execution_count": 36,
   "metadata": {
    "collapsed": true
   },
   "outputs": [],
   "source": [
    "#Remove trailing whitespace from state names\n",
    "post_ACA.State = post_ACA.State.apply(lambda x: x.rstrip())"
   ]
  },
  {
   "cell_type": "code",
   "execution_count": 37,
   "metadata": {},
   "outputs": [
    {
     "name": "stdout",
     "output_type": "stream",
     "text": [
      "<class 'pandas.core.frame.DataFrame'>\n",
      "RangeIndex: 52 entries, 0 to 51\n",
      "Data columns (total 14 columns):\n",
      "State                                           52 non-null object\n",
      "Uninsured Rate (2010)                           52 non-null float64\n",
      "Uninsured Rate (2015)                           52 non-null float64\n",
      "Uninsured Rate Change (2010-2015)               52 non-null float64\n",
      "Health Insurance Coverage Change (2010-2015)    52 non-null int64\n",
      "Employer Health Insurance Coverage (2015)       52 non-null int64\n",
      "Marketplace Health Insurance Coverage (2016)    52 non-null int64\n",
      "Marketplace Tax Credits (2016)                  52 non-null int64\n",
      "Average Monthly Tax Credit (2016)               52 non-null int64\n",
      "State Medicaid Expansion (2016)                 51 non-null object\n",
      "Medicaid Enrollment (2013)                      50 non-null float64\n",
      "Medicaid Enrollment (2016)                      52 non-null int64\n",
      "Medicaid Enrollment Change (2013-2016)          50 non-null float64\n",
      "Medicare Enrollment (2016)                      52 non-null int64\n",
      "dtypes: float64(5), int64(7), object(2)\n",
      "memory usage: 5.8+ KB\n"
     ]
    }
   ],
   "source": [
    "post_ACA.info()"
   ]
  },
  {
   "cell_type": "code",
   "execution_count": 38,
   "metadata": {},
   "outputs": [
    {
     "data": {
      "text/html": [
       "<div>\n",
       "<table border=\"1\" class=\"dataframe\">\n",
       "  <thead>\n",
       "    <tr style=\"text-align: right;\">\n",
       "      <th></th>\n",
       "      <th>State</th>\n",
       "      <th>Uninsured Rate (2010)</th>\n",
       "      <th>Uninsured Rate (2015)</th>\n",
       "      <th>Uninsured Rate Change (2010-2015)</th>\n",
       "      <th>Health Insurance Coverage Change (2010-2015)</th>\n",
       "      <th>Employer Health Insurance Coverage (2015)</th>\n",
       "      <th>Marketplace Health Insurance Coverage (2016)</th>\n",
       "      <th>Marketplace Tax Credits (2016)</th>\n",
       "      <th>Average Monthly Tax Credit (2016)</th>\n",
       "      <th>State Medicaid Expansion (2016)</th>\n",
       "      <th>Medicaid Enrollment (2013)</th>\n",
       "      <th>Medicaid Enrollment (2016)</th>\n",
       "      <th>Medicaid Enrollment Change (2013-2016)</th>\n",
       "      <th>Medicare Enrollment (2016)</th>\n",
       "    </tr>\n",
       "  </thead>\n",
       "  <tbody>\n",
       "    <tr>\n",
       "      <th>47</th>\n",
       "      <td>Washington</td>\n",
       "      <td>14.2</td>\n",
       "      <td>6.6</td>\n",
       "      <td>-7.6</td>\n",
       "      <td>537000</td>\n",
       "      <td>3986000</td>\n",
       "      <td>158245</td>\n",
       "      <td>110476</td>\n",
       "      <td>238</td>\n",
       "      <td>True</td>\n",
       "      <td>1117576.0</td>\n",
       "      <td>1788536</td>\n",
       "      <td>670960.0</td>\n",
       "      <td>1238649</td>\n",
       "    </tr>\n",
       "    <tr>\n",
       "      <th>48</th>\n",
       "      <td>West Virginia</td>\n",
       "      <td>14.6</td>\n",
       "      <td>6.0</td>\n",
       "      <td>-8.6</td>\n",
       "      <td>156000</td>\n",
       "      <td>976000</td>\n",
       "      <td>33235</td>\n",
       "      <td>29163</td>\n",
       "      <td>388</td>\n",
       "      <td>True</td>\n",
       "      <td>354544.0</td>\n",
       "      <td>575645</td>\n",
       "      <td>221101.0</td>\n",
       "      <td>423500</td>\n",
       "    </tr>\n",
       "    <tr>\n",
       "      <th>49</th>\n",
       "      <td>Wisconsin</td>\n",
       "      <td>9.4</td>\n",
       "      <td>5.7</td>\n",
       "      <td>-3.7</td>\n",
       "      <td>211000</td>\n",
       "      <td>3521000</td>\n",
       "      <td>224208</td>\n",
       "      <td>190542</td>\n",
       "      <td>332</td>\n",
       "      <td>False</td>\n",
       "      <td>985531.0</td>\n",
       "      <td>1046897</td>\n",
       "      <td>61366.0</td>\n",
       "      <td>1084854</td>\n",
       "    </tr>\n",
       "    <tr>\n",
       "      <th>50</th>\n",
       "      <td>Wyoming</td>\n",
       "      <td>14.9</td>\n",
       "      <td>11.5</td>\n",
       "      <td>-3.4</td>\n",
       "      <td>20000</td>\n",
       "      <td>335000</td>\n",
       "      <td>22076</td>\n",
       "      <td>20313</td>\n",
       "      <td>459</td>\n",
       "      <td>False</td>\n",
       "      <td>67518.0</td>\n",
       "      <td>63583</td>\n",
       "      <td>-3935.0</td>\n",
       "      <td>99128</td>\n",
       "    </tr>\n",
       "    <tr>\n",
       "      <th>51</th>\n",
       "      <td>United States</td>\n",
       "      <td>15.5</td>\n",
       "      <td>9.4</td>\n",
       "      <td>6.1</td>\n",
       "      <td>19304000</td>\n",
       "      <td>172292000</td>\n",
       "      <td>11081330</td>\n",
       "      <td>9389609</td>\n",
       "      <td>291</td>\n",
       "      <td>NaN</td>\n",
       "      <td>56392477.0</td>\n",
       "      <td>73532931</td>\n",
       "      <td>16106157.0</td>\n",
       "      <td>57149984</td>\n",
       "    </tr>\n",
       "  </tbody>\n",
       "</table>\n",
       "</div>"
      ],
      "text/plain": [
       "            State  Uninsured Rate (2010)  Uninsured Rate (2015)  \\\n",
       "47     Washington                   14.2                    6.6   \n",
       "48  West Virginia                   14.6                    6.0   \n",
       "49      Wisconsin                    9.4                    5.7   \n",
       "50        Wyoming                   14.9                   11.5   \n",
       "51  United States                   15.5                    9.4   \n",
       "\n",
       "    Uninsured Rate Change (2010-2015)  \\\n",
       "47                               -7.6   \n",
       "48                               -8.6   \n",
       "49                               -3.7   \n",
       "50                               -3.4   \n",
       "51                                6.1   \n",
       "\n",
       "    Health Insurance Coverage Change (2010-2015)  \\\n",
       "47                                        537000   \n",
       "48                                        156000   \n",
       "49                                        211000   \n",
       "50                                         20000   \n",
       "51                                      19304000   \n",
       "\n",
       "    Employer Health Insurance Coverage (2015)  \\\n",
       "47                                    3986000   \n",
       "48                                     976000   \n",
       "49                                    3521000   \n",
       "50                                     335000   \n",
       "51                                  172292000   \n",
       "\n",
       "    Marketplace Health Insurance Coverage (2016)  \\\n",
       "47                                        158245   \n",
       "48                                         33235   \n",
       "49                                        224208   \n",
       "50                                         22076   \n",
       "51                                      11081330   \n",
       "\n",
       "    Marketplace Tax Credits (2016)  Average Monthly Tax Credit (2016)  \\\n",
       "47                          110476                                238   \n",
       "48                           29163                                388   \n",
       "49                          190542                                332   \n",
       "50                           20313                                459   \n",
       "51                         9389609                                291   \n",
       "\n",
       "   State Medicaid Expansion (2016)  Medicaid Enrollment (2013)  \\\n",
       "47                            True                   1117576.0   \n",
       "48                            True                    354544.0   \n",
       "49                           False                    985531.0   \n",
       "50                           False                     67518.0   \n",
       "51                             NaN                  56392477.0   \n",
       "\n",
       "    Medicaid Enrollment (2016)  Medicaid Enrollment Change (2013-2016)  \\\n",
       "47                     1788536                                670960.0   \n",
       "48                      575645                                221101.0   \n",
       "49                     1046897                                 61366.0   \n",
       "50                       63583                                 -3935.0   \n",
       "51                    73532931                              16106157.0   \n",
       "\n",
       "    Medicare Enrollment (2016)  \n",
       "47                     1238649  \n",
       "48                      423500  \n",
       "49                     1084854  \n",
       "50                       99128  \n",
       "51                    57149984  "
      ]
     },
     "execution_count": 38,
     "metadata": {},
     "output_type": "execute_result"
    }
   ],
   "source": [
    "post_ACA.tail()"
   ]
  },
  {
   "cell_type": "code",
   "execution_count": 39,
   "metadata": {},
   "outputs": [
    {
     "data": {
      "text/plain": [
       "52"
      ]
     },
     "execution_count": 39,
     "metadata": {},
     "output_type": "execute_result"
    }
   ],
   "source": [
    "len(sorted(post_ACA.State.unique())) #50 states + DC + United States"
   ]
  },
  {
   "cell_type": "code",
   "execution_count": 40,
   "metadata": {
    "collapsed": true
   },
   "outputs": [],
   "source": [
    "#Merge state code into dataset\n",
    "post_ACA = post_ACA.merge(state_codes, how='left', on='State')"
   ]
  },
  {
   "cell_type": "code",
   "execution_count": 41,
   "metadata": {
    "collapsed": true
   },
   "outputs": [],
   "source": [
    "#Create column with the total insured population per state. Assign code for United States.\n",
    "post_ACA.loc[51:,('code')] = 'US'\n",
    "post_ACA['insured_pop'] = post_ACA.iloc[:,(5,6,11,13)].sum(axis=1)"
   ]
  },
  {
   "cell_type": "code",
   "execution_count": 42,
   "metadata": {
    "collapsed": true
   },
   "outputs": [],
   "source": [
    "#Calculate the proportion of enrollment change per state between 2013 and 2016 from the country's \n",
    "#total new enrollments for the period.\n",
    "post_ACA['medicaid_delta'] = (post_ACA['Medicaid Enrollment Change (2013-2016)']/\\\n",
    "post_ACA['Medicaid Enrollment Change (2013-2016)'][51]) *100"
   ]
  },
  {
   "cell_type": "markdown",
   "metadata": {},
   "source": [
    "## Explore uninsured population data"
   ]
  },
  {
   "cell_type": "code",
   "execution_count": 43,
   "metadata": {},
   "outputs": [
    {
     "data": {
      "text/html": [
       "<div>\n",
       "<table border=\"1\" class=\"dataframe\">\n",
       "  <thead>\n",
       "    <tr style=\"text-align: right;\">\n",
       "      <th></th>\n",
       "      <th>State</th>\n",
       "      <th>Uninsured Rate (2010)</th>\n",
       "      <th>Uninsured Rate (2015)</th>\n",
       "      <th>Uninsured Rate Change (2010-2015)</th>\n",
       "    </tr>\n",
       "  </thead>\n",
       "  <tbody>\n",
       "    <tr>\n",
       "      <th>43</th>\n",
       "      <td>Texas</td>\n",
       "      <td>23.7</td>\n",
       "      <td>17.1</td>\n",
       "      <td>-6.6</td>\n",
       "    </tr>\n",
       "    <tr>\n",
       "      <th>28</th>\n",
       "      <td>Nevada</td>\n",
       "      <td>22.6</td>\n",
       "      <td>12.3</td>\n",
       "      <td>-10.3</td>\n",
       "    </tr>\n",
       "    <tr>\n",
       "      <th>9</th>\n",
       "      <td>Florida</td>\n",
       "      <td>21.3</td>\n",
       "      <td>13.3</td>\n",
       "      <td>-8.0</td>\n",
       "    </tr>\n",
       "    <tr>\n",
       "      <th>1</th>\n",
       "      <td>Alaska</td>\n",
       "      <td>19.9</td>\n",
       "      <td>14.9</td>\n",
       "      <td>-5.0</td>\n",
       "    </tr>\n",
       "    <tr>\n",
       "      <th>10</th>\n",
       "      <td>Georgia</td>\n",
       "      <td>19.7</td>\n",
       "      <td>13.9</td>\n",
       "      <td>-5.8</td>\n",
       "    </tr>\n",
       "    <tr>\n",
       "      <th>31</th>\n",
       "      <td>New Mexico</td>\n",
       "      <td>19.6</td>\n",
       "      <td>10.9</td>\n",
       "      <td>-8.7</td>\n",
       "    </tr>\n",
       "    <tr>\n",
       "      <th>36</th>\n",
       "      <td>Oklahoma</td>\n",
       "      <td>18.9</td>\n",
       "      <td>13.9</td>\n",
       "      <td>-5.0</td>\n",
       "    </tr>\n",
       "    <tr>\n",
       "      <th>4</th>\n",
       "      <td>California</td>\n",
       "      <td>18.5</td>\n",
       "      <td>8.6</td>\n",
       "      <td>-9.9</td>\n",
       "    </tr>\n",
       "    <tr>\n",
       "      <th>24</th>\n",
       "      <td>Mississippi</td>\n",
       "      <td>18.2</td>\n",
       "      <td>12.7</td>\n",
       "      <td>-5.5</td>\n",
       "    </tr>\n",
       "    <tr>\n",
       "      <th>18</th>\n",
       "      <td>Louisiana</td>\n",
       "      <td>17.8</td>\n",
       "      <td>11.9</td>\n",
       "      <td>-5.9</td>\n",
       "    </tr>\n",
       "    <tr>\n",
       "      <th>12</th>\n",
       "      <td>Idaho</td>\n",
       "      <td>17.7</td>\n",
       "      <td>11.0</td>\n",
       "      <td>-6.7</td>\n",
       "    </tr>\n",
       "    <tr>\n",
       "      <th>40</th>\n",
       "      <td>South Carolina</td>\n",
       "      <td>17.5</td>\n",
       "      <td>10.9</td>\n",
       "      <td>-6.6</td>\n",
       "    </tr>\n",
       "    <tr>\n",
       "      <th>3</th>\n",
       "      <td>Arkansas</td>\n",
       "      <td>17.5</td>\n",
       "      <td>9.5</td>\n",
       "      <td>-8.0</td>\n",
       "    </tr>\n",
       "    <tr>\n",
       "      <th>26</th>\n",
       "      <td>Montana</td>\n",
       "      <td>17.3</td>\n",
       "      <td>11.6</td>\n",
       "      <td>-5.7</td>\n",
       "    </tr>\n",
       "    <tr>\n",
       "      <th>37</th>\n",
       "      <td>Oregon</td>\n",
       "      <td>17.1</td>\n",
       "      <td>7.0</td>\n",
       "      <td>-10.1</td>\n",
       "    </tr>\n",
       "    <tr>\n",
       "      <th>2</th>\n",
       "      <td>Arizona</td>\n",
       "      <td>16.9</td>\n",
       "      <td>10.8</td>\n",
       "      <td>-6.1</td>\n",
       "    </tr>\n",
       "    <tr>\n",
       "      <th>33</th>\n",
       "      <td>North Carolina</td>\n",
       "      <td>16.8</td>\n",
       "      <td>11.2</td>\n",
       "      <td>-5.6</td>\n",
       "    </tr>\n",
       "    <tr>\n",
       "      <th>5</th>\n",
       "      <td>Colorado</td>\n",
       "      <td>15.9</td>\n",
       "      <td>8.1</td>\n",
       "      <td>-7.8</td>\n",
       "    </tr>\n",
       "    <tr>\n",
       "      <th>51</th>\n",
       "      <td>United States</td>\n",
       "      <td>15.5</td>\n",
       "      <td>9.4</td>\n",
       "      <td>6.1</td>\n",
       "    </tr>\n",
       "  </tbody>\n",
       "</table>\n",
       "</div>"
      ],
      "text/plain": [
       "             State  Uninsured Rate (2010)  Uninsured Rate (2015)  \\\n",
       "43           Texas                   23.7                   17.1   \n",
       "28          Nevada                   22.6                   12.3   \n",
       "9          Florida                   21.3                   13.3   \n",
       "1           Alaska                   19.9                   14.9   \n",
       "10         Georgia                   19.7                   13.9   \n",
       "31      New Mexico                   19.6                   10.9   \n",
       "36        Oklahoma                   18.9                   13.9   \n",
       "4       California                   18.5                    8.6   \n",
       "24     Mississippi                   18.2                   12.7   \n",
       "18       Louisiana                   17.8                   11.9   \n",
       "12           Idaho                   17.7                   11.0   \n",
       "40  South Carolina                   17.5                   10.9   \n",
       "3         Arkansas                   17.5                    9.5   \n",
       "26         Montana                   17.3                   11.6   \n",
       "37          Oregon                   17.1                    7.0   \n",
       "2          Arizona                   16.9                   10.8   \n",
       "33  North Carolina                   16.8                   11.2   \n",
       "5         Colorado                   15.9                    8.1   \n",
       "51   United States                   15.5                    9.4   \n",
       "\n",
       "    Uninsured Rate Change (2010-2015)  \n",
       "43                               -6.6  \n",
       "28                              -10.3  \n",
       "9                                -8.0  \n",
       "1                                -5.0  \n",
       "10                               -5.8  \n",
       "31                               -8.7  \n",
       "36                               -5.0  \n",
       "4                                -9.9  \n",
       "24                               -5.5  \n",
       "18                               -5.9  \n",
       "12                               -6.7  \n",
       "40                               -6.6  \n",
       "3                                -8.0  \n",
       "26                               -5.7  \n",
       "37                              -10.1  \n",
       "2                                -6.1  \n",
       "33                               -5.6  \n",
       "5                                -7.8  \n",
       "51                                6.1  "
      ]
     },
     "execution_count": 43,
     "metadata": {},
     "output_type": "execute_result"
    }
   ],
   "source": [
    "#States with the largest proportion of uninsured population before ACA (2010)\n",
    "post_ACA.ix[:,:4].sort_values(by='Uninsured Rate (2010)', ascending = False)[:19]"
   ]
  },
  {
   "cell_type": "code",
   "execution_count": 44,
   "metadata": {},
   "outputs": [
    {
     "data": {
      "text/plain": [
       "17.100000000000001"
      ]
     },
     "execution_count": 44,
     "metadata": {},
     "output_type": "execute_result"
    }
   ],
   "source": [
    "#Texas still has the highest rate of uninsured population in the country\n",
    "post_ACA['Uninsured Rate (2015)'].max()"
   ]
  },
  {
   "cell_type": "code",
   "execution_count": 45,
   "metadata": {},
   "outputs": [
    {
     "data": {
      "text/html": [
       "<div>\n",
       "<table border=\"1\" class=\"dataframe\">\n",
       "  <thead>\n",
       "    <tr style=\"text-align: right;\">\n",
       "      <th></th>\n",
       "      <th>State</th>\n",
       "      <th>Uninsured Rate (2010)</th>\n",
       "      <th>Uninsured Rate (2015)</th>\n",
       "      <th>Uninsured Rate Change (2010-2015)</th>\n",
       "      <th>Health Insurance Coverage Change (2010-2015)</th>\n",
       "      <th>Employer Health Insurance Coverage (2015)</th>\n",
       "      <th>Marketplace Health Insurance Coverage (2016)</th>\n",
       "      <th>Marketplace Tax Credits (2016)</th>\n",
       "      <th>Average Monthly Tax Credit (2016)</th>\n",
       "      <th>State Medicaid Expansion (2016)</th>\n",
       "      <th>Medicaid Enrollment (2013)</th>\n",
       "      <th>Medicaid Enrollment (2016)</th>\n",
       "      <th>Medicaid Enrollment Change (2013-2016)</th>\n",
       "      <th>Medicare Enrollment (2016)</th>\n",
       "      <th>code</th>\n",
       "      <th>insured_pop</th>\n",
       "      <th>medicaid_delta</th>\n",
       "    </tr>\n",
       "  </thead>\n",
       "  <tbody>\n",
       "    <tr>\n",
       "      <th>21</th>\n",
       "      <td>Massachusetts</td>\n",
       "      <td>4.4</td>\n",
       "      <td>2.8</td>\n",
       "      <td>-1.6</td>\n",
       "      <td>107000</td>\n",
       "      <td>4232000</td>\n",
       "      <td>207121</td>\n",
       "      <td>157751</td>\n",
       "      <td>190</td>\n",
       "      <td>True</td>\n",
       "      <td>1296359.0</td>\n",
       "      <td>1684328</td>\n",
       "      <td>387969.0</td>\n",
       "      <td>1252277</td>\n",
       "      <td>MA</td>\n",
       "      <td>7375726</td>\n",
       "      <td>2.408824</td>\n",
       "    </tr>\n",
       "  </tbody>\n",
       "</table>\n",
       "</div>"
      ],
      "text/plain": [
       "            State  Uninsured Rate (2010)  Uninsured Rate (2015)  \\\n",
       "21  Massachusetts                    4.4                    2.8   \n",
       "\n",
       "    Uninsured Rate Change (2010-2015)  \\\n",
       "21                               -1.6   \n",
       "\n",
       "    Health Insurance Coverage Change (2010-2015)  \\\n",
       "21                                        107000   \n",
       "\n",
       "    Employer Health Insurance Coverage (2015)  \\\n",
       "21                                    4232000   \n",
       "\n",
       "    Marketplace Health Insurance Coverage (2016)  \\\n",
       "21                                        207121   \n",
       "\n",
       "    Marketplace Tax Credits (2016)  Average Monthly Tax Credit (2016)  \\\n",
       "21                          157751                                190   \n",
       "\n",
       "   State Medicaid Expansion (2016)  Medicaid Enrollment (2013)  \\\n",
       "21                            True                   1296359.0   \n",
       "\n",
       "    Medicaid Enrollment (2016)  Medicaid Enrollment Change (2013-2016)  \\\n",
       "21                     1684328                                387969.0   \n",
       "\n",
       "    Medicare Enrollment (2016) code  insured_pop  medicaid_delta  \n",
       "21                     1252277   MA      7375726        2.408824  "
      ]
     },
     "execution_count": 45,
     "metadata": {},
     "output_type": "execute_result"
    }
   ],
   "source": [
    "#All states show a drop in uninsured population. Massachusetts had the lowest change in the country...\n",
    "#and also the lowest rate of uninsured population before and after ACA. Will California follow with SB 562?\n",
    "post_ACA[post_ACA['Uninsured Rate (2015)'] < 3]"
   ]
  },
  {
   "cell_type": "code",
   "execution_count": 46,
   "metadata": {},
   "outputs": [
    {
     "data": {
      "text/html": [
       "<div>\n",
       "<table border=\"1\" class=\"dataframe\">\n",
       "  <thead>\n",
       "    <tr style=\"text-align: right;\">\n",
       "      <th></th>\n",
       "      <th>Uninsured Rate (2010)</th>\n",
       "      <th>Uninsured Rate (2015)</th>\n",
       "      <th>Uninsured Rate Change (2010-2015)</th>\n",
       "      <th>code</th>\n",
       "    </tr>\n",
       "  </thead>\n",
       "  <tbody>\n",
       "    <tr>\n",
       "      <th>28</th>\n",
       "      <td>22.6</td>\n",
       "      <td>12.3</td>\n",
       "      <td>-10.3</td>\n",
       "      <td>NV</td>\n",
       "    </tr>\n",
       "    <tr>\n",
       "      <th>37</th>\n",
       "      <td>17.1</td>\n",
       "      <td>7.0</td>\n",
       "      <td>-10.1</td>\n",
       "      <td>OR</td>\n",
       "    </tr>\n",
       "    <tr>\n",
       "      <th>4</th>\n",
       "      <td>18.5</td>\n",
       "      <td>8.6</td>\n",
       "      <td>-9.9</td>\n",
       "      <td>CA</td>\n",
       "    </tr>\n",
       "    <tr>\n",
       "      <th>17</th>\n",
       "      <td>15.3</td>\n",
       "      <td>6.0</td>\n",
       "      <td>-9.3</td>\n",
       "      <td>KY</td>\n",
       "    </tr>\n",
       "    <tr>\n",
       "      <th>31</th>\n",
       "      <td>19.6</td>\n",
       "      <td>10.9</td>\n",
       "      <td>-8.7</td>\n",
       "      <td>NM</td>\n",
       "    </tr>\n",
       "    <tr>\n",
       "      <th>48</th>\n",
       "      <td>14.6</td>\n",
       "      <td>6.0</td>\n",
       "      <td>-8.6</td>\n",
       "      <td>WV</td>\n",
       "    </tr>\n",
       "    <tr>\n",
       "      <th>3</th>\n",
       "      <td>17.5</td>\n",
       "      <td>9.5</td>\n",
       "      <td>-8.0</td>\n",
       "      <td>AR</td>\n",
       "    </tr>\n",
       "    <tr>\n",
       "      <th>9</th>\n",
       "      <td>21.3</td>\n",
       "      <td>13.3</td>\n",
       "      <td>-8.0</td>\n",
       "      <td>FL</td>\n",
       "    </tr>\n",
       "    <tr>\n",
       "      <th>5</th>\n",
       "      <td>15.9</td>\n",
       "      <td>8.1</td>\n",
       "      <td>-7.8</td>\n",
       "      <td>CO</td>\n",
       "    </tr>\n",
       "    <tr>\n",
       "      <th>47</th>\n",
       "      <td>14.2</td>\n",
       "      <td>6.6</td>\n",
       "      <td>-7.6</td>\n",
       "      <td>WA</td>\n",
       "    </tr>\n",
       "    <tr>\n",
       "      <th>12</th>\n",
       "      <td>17.7</td>\n",
       "      <td>11.0</td>\n",
       "      <td>-6.7</td>\n",
       "      <td>ID</td>\n",
       "    </tr>\n",
       "    <tr>\n",
       "      <th>13</th>\n",
       "      <td>13.8</td>\n",
       "      <td>7.1</td>\n",
       "      <td>-6.7</td>\n",
       "      <td>IL</td>\n",
       "    </tr>\n",
       "    <tr>\n",
       "      <th>43</th>\n",
       "      <td>23.7</td>\n",
       "      <td>17.1</td>\n",
       "      <td>-6.6</td>\n",
       "      <td>TX</td>\n",
       "    </tr>\n",
       "    <tr>\n",
       "      <th>40</th>\n",
       "      <td>17.5</td>\n",
       "      <td>10.9</td>\n",
       "      <td>-6.6</td>\n",
       "      <td>SC</td>\n",
       "    </tr>\n",
       "    <tr>\n",
       "      <th>39</th>\n",
       "      <td>12.2</td>\n",
       "      <td>5.7</td>\n",
       "      <td>-6.5</td>\n",
       "      <td>RI</td>\n",
       "    </tr>\n",
       "    <tr>\n",
       "      <th>22</th>\n",
       "      <td>12.4</td>\n",
       "      <td>6.1</td>\n",
       "      <td>-6.3</td>\n",
       "      <td>MI</td>\n",
       "    </tr>\n",
       "    <tr>\n",
       "      <th>2</th>\n",
       "      <td>16.9</td>\n",
       "      <td>10.8</td>\n",
       "      <td>-6.1</td>\n",
       "      <td>AZ</td>\n",
       "    </tr>\n",
       "  </tbody>\n",
       "</table>\n",
       "</div>"
      ],
      "text/plain": [
       "    Uninsured Rate (2010)  Uninsured Rate (2015)  \\\n",
       "28                   22.6                   12.3   \n",
       "37                   17.1                    7.0   \n",
       "4                    18.5                    8.6   \n",
       "17                   15.3                    6.0   \n",
       "31                   19.6                   10.9   \n",
       "48                   14.6                    6.0   \n",
       "3                    17.5                    9.5   \n",
       "9                    21.3                   13.3   \n",
       "5                    15.9                    8.1   \n",
       "47                   14.2                    6.6   \n",
       "12                   17.7                   11.0   \n",
       "13                   13.8                    7.1   \n",
       "43                   23.7                   17.1   \n",
       "40                   17.5                   10.9   \n",
       "39                   12.2                    5.7   \n",
       "22                   12.4                    6.1   \n",
       "2                    16.9                   10.8   \n",
       "\n",
       "    Uninsured Rate Change (2010-2015) code  \n",
       "28                              -10.3   NV  \n",
       "37                              -10.1   OR  \n",
       "4                                -9.9   CA  \n",
       "17                               -9.3   KY  \n",
       "31                               -8.7   NM  \n",
       "48                               -8.6   WV  \n",
       "3                                -8.0   AR  \n",
       "9                                -8.0   FL  \n",
       "5                                -7.8   CO  \n",
       "47                               -7.6   WA  \n",
       "12                               -6.7   ID  \n",
       "13                               -6.7   IL  \n",
       "43                               -6.6   TX  \n",
       "40                               -6.6   SC  \n",
       "39                               -6.5   RI  \n",
       "22                               -6.3   MI  \n",
       "2                                -6.1   AZ  "
      ]
     },
     "execution_count": 46,
     "metadata": {},
     "output_type": "execute_result"
    }
   ],
   "source": [
    "#States with the largest decreases in uninsured population after ACA (2015)\n",
    "uninsured_rate = post_ACA.ix[:,[1,2,3,-3]].sort_values(by='Uninsured Rate Change (2010-2015)', ascending = True)[:17]\n",
    "uninsured_rate"
   ]
  },
  {
   "cell_type": "markdown",
   "metadata": {},
   "source": [
    "## Fig2a: Chart showing changes in uninsured population rates before and after ACA"
   ]
  },
  {
   "cell_type": "code",
   "execution_count": 47,
   "metadata": {},
   "outputs": [
    {
     "data": {
      "image/png": "[encoded data removed]",
      "text/plain": [
       "<matplotlib.figure.Figure at 0x1107e11d0>"
      ]
     },
     "metadata": {
      "image/png": {
       "height": 432,
       "width": 888
      }
     },
     "output_type": "display_data"
    }
   ],
   "source": [
    "#Create plot\n",
    "ax = uninsured_rate.ix[:,:2].plot.bar(figsize = (15,7), fontsize=12, rot=0)\n",
    "ax.set_facecolor('#F9F9F9')\n",
    "ax.set_xticklabels(uninsured_rate.code)\n",
    "\n",
    "plt.ylabel('Uninsured Population (%)', fontsize = 14)\n",
    "plt.title('States with the Biggest Drops in Uninsured Population', fontsize=19, color='navy');"
   ]
  },
  {
   "cell_type": "markdown",
   "metadata": {},
   "source": [
    "## Fig2b: Interactive chart "
   ]
  },
  {
   "cell_type": "code",
   "execution_count": 48,
   "metadata": {},
   "outputs": [
    {
     "data": {
      "text/html": [
       "<iframe id=\"igraph\" scrolling=\"no\" style=\"border:none;\" seamless=\"seamless\" src=\"https://plot.ly/~prpca1999/132.embed\" height=\"525px\" width=\"100%\"></iframe>"
      ],
      "text/plain": [
       "<plotly.tools.PlotlyDisplay object>"
      ]
     },
     "execution_count": 48,
     "metadata": {},
     "output_type": "execute_result"
    }
   ],
   "source": [
    "#Equivalent interactive version\n",
    "#(0,120,171) - big sky blue; (64, 224, 208) - turquoise blue\n",
    "\n",
    "trace2010 = go.Bar(\n",
    "    x=uninsured_rate['code'],\n",
    "    y=uninsured_rate['Uninsured Rate (2010)'],\n",
    "    name='2010 - Uninsured Rate',\n",
    "    marker=dict(\n",
    "        color='rgb(64, 224, 208)'\n",
    "    )\n",
    ")\n",
    "trace2015 = go.Bar(\n",
    "    x=uninsured_rate['code'],\n",
    "    y=uninsured_rate['Uninsured Rate (2015)'],\n",
    "    name='2015 - Uninsured Rate',\n",
    "    marker=dict(\n",
    "        color='rgb(0, 120, 171)'\n",
    "    )\n",
    ")\n",
    "data = [trace2010, trace2015]\n",
    "layout = go.Layout(\n",
    "    title='States with the Biggest Drops in Uninsured Population',\n",
    "    xaxis=dict(\n",
    "        tickfont=dict(\n",
    "            size=14,\n",
    "            color='rgb(107, 107, 107)'\n",
    "        )\n",
    "    ),\n",
    "    yaxis=dict(\n",
    "        title='Uninsured Population (%)',\n",
    "        titlefont=dict(\n",
    "            size=16,\n",
    "            color='rgb(107, 107, 107)'\n",
    "        ),\n",
    "        tickfont=dict(\n",
    "            size=14,\n",
    "            color='rgb(107, 107, 107)'\n",
    "        )\n",
    "    ),\n",
    "    legend=dict(\n",
    "        bgcolor='rgba(255, 255, 255, 0)',\n",
    "        bordercolor='rgba(255, 255, 255, 0)'\n",
    "    ),\n",
    "    barmode='group',\n",
    "    bargap=0.15,\n",
    "    bargroupgap=0.1\n",
    ")\n",
    "\n",
    "fig = go.Figure(data=data, layout=layout)\n",
    "py.iplot(fig, filename='uninsured-pop-drop')"
   ]
  },
  {
   "cell_type": "markdown",
   "metadata": {},
   "source": [
    "## Explore data about sources of insurance"
   ]
  },
  {
   "cell_type": "code",
   "execution_count": 49,
   "metadata": {
    "collapsed": true
   },
   "outputs": [],
   "source": [
    "#List dataset columns with insured population breakdown by source of insurance\n",
    "cols = [u'code', u'Employer Health Insurance Coverage (2015)',\n",
    "       u'Marketplace Health Insurance Coverage (2016)',\n",
    "       u'Medicaid Enrollment (2016)', u'Medicare Enrollment (2016)',\n",
    "       u'insured_pop']"
   ]
  },
  {
   "cell_type": "code",
   "execution_count": 50,
   "metadata": {},
   "outputs": [
    {
     "data": {
      "text/html": [
       "<div>\n",
       "<table border=\"1\" class=\"dataframe\">\n",
       "  <thead>\n",
       "    <tr style=\"text-align: right;\">\n",
       "      <th></th>\n",
       "      <th>code</th>\n",
       "      <th>Employer Health Insurance Coverage (2015)</th>\n",
       "      <th>Marketplace Health Insurance Coverage (2016)</th>\n",
       "      <th>Medicaid Enrollment (2016)</th>\n",
       "      <th>Medicare Enrollment (2016)</th>\n",
       "      <th>insured_pop</th>\n",
       "      <th>single_payer</th>\n",
       "      <th>market</th>\n",
       "      <th>prop_employer</th>\n",
       "      <th>prop_marketplace</th>\n",
       "      <th>prop_medicaid</th>\n",
       "      <th>prop_medicare</th>\n",
       "    </tr>\n",
       "  </thead>\n",
       "  <tbody>\n",
       "    <tr>\n",
       "      <th>47</th>\n",
       "      <td>WA</td>\n",
       "      <td>3986000</td>\n",
       "      <td>158245</td>\n",
       "      <td>1788536</td>\n",
       "      <td>1238649</td>\n",
       "      <td>7171430</td>\n",
       "      <td>0.422117</td>\n",
       "      <td>0.577883</td>\n",
       "      <td>0.555817</td>\n",
       "      <td>0.022066</td>\n",
       "      <td>0.249397</td>\n",
       "      <td>0.172720</td>\n",
       "    </tr>\n",
       "    <tr>\n",
       "      <th>48</th>\n",
       "      <td>WV</td>\n",
       "      <td>976000</td>\n",
       "      <td>33235</td>\n",
       "      <td>575645</td>\n",
       "      <td>423500</td>\n",
       "      <td>2008380</td>\n",
       "      <td>0.497488</td>\n",
       "      <td>0.502512</td>\n",
       "      <td>0.485964</td>\n",
       "      <td>0.016548</td>\n",
       "      <td>0.286622</td>\n",
       "      <td>0.210866</td>\n",
       "    </tr>\n",
       "    <tr>\n",
       "      <th>49</th>\n",
       "      <td>WI</td>\n",
       "      <td>3521000</td>\n",
       "      <td>224208</td>\n",
       "      <td>1046897</td>\n",
       "      <td>1084854</td>\n",
       "      <td>5876959</td>\n",
       "      <td>0.362730</td>\n",
       "      <td>0.637270</td>\n",
       "      <td>0.599119</td>\n",
       "      <td>0.038150</td>\n",
       "      <td>0.178136</td>\n",
       "      <td>0.184594</td>\n",
       "    </tr>\n",
       "    <tr>\n",
       "      <th>50</th>\n",
       "      <td>WY</td>\n",
       "      <td>335000</td>\n",
       "      <td>22076</td>\n",
       "      <td>63583</td>\n",
       "      <td>99128</td>\n",
       "      <td>519787</td>\n",
       "      <td>0.313034</td>\n",
       "      <td>0.686966</td>\n",
       "      <td>0.644495</td>\n",
       "      <td>0.042471</td>\n",
       "      <td>0.122325</td>\n",
       "      <td>0.190709</td>\n",
       "    </tr>\n",
       "    <tr>\n",
       "      <th>51</th>\n",
       "      <td>US</td>\n",
       "      <td>172292000</td>\n",
       "      <td>11081330</td>\n",
       "      <td>73532931</td>\n",
       "      <td>57149984</td>\n",
       "      <td>314056245</td>\n",
       "      <td>0.416113</td>\n",
       "      <td>0.583887</td>\n",
       "      <td>0.548602</td>\n",
       "      <td>0.035285</td>\n",
       "      <td>0.234139</td>\n",
       "      <td>0.181974</td>\n",
       "    </tr>\n",
       "  </tbody>\n",
       "</table>\n",
       "</div>"
      ],
      "text/plain": [
       "   code  Employer Health Insurance Coverage (2015)  \\\n",
       "47   WA                                    3986000   \n",
       "48   WV                                     976000   \n",
       "49   WI                                    3521000   \n",
       "50   WY                                     335000   \n",
       "51   US                                  172292000   \n",
       "\n",
       "    Marketplace Health Insurance Coverage (2016)  Medicaid Enrollment (2016)  \\\n",
       "47                                        158245                     1788536   \n",
       "48                                         33235                      575645   \n",
       "49                                        224208                     1046897   \n",
       "50                                         22076                       63583   \n",
       "51                                      11081330                    73532931   \n",
       "\n",
       "    Medicare Enrollment (2016)  insured_pop  single_payer    market  \\\n",
       "47                     1238649      7171430      0.422117  0.577883   \n",
       "48                      423500      2008380      0.497488  0.502512   \n",
       "49                     1084854      5876959      0.362730  0.637270   \n",
       "50                       99128       519787      0.313034  0.686966   \n",
       "51                    57149984    314056245      0.416113  0.583887   \n",
       "\n",
       "    prop_employer  prop_marketplace  prop_medicaid  prop_medicare  \n",
       "47       0.555817          0.022066       0.249397       0.172720  \n",
       "48       0.485964          0.016548       0.286622       0.210866  \n",
       "49       0.599119          0.038150       0.178136       0.184594  \n",
       "50       0.644495          0.042471       0.122325       0.190709  \n",
       "51       0.548602          0.035285       0.234139       0.181974  "
      ]
     },
     "execution_count": 50,
     "metadata": {},
     "output_type": "execute_result"
    }
   ],
   "source": [
    "#Select data with enrollment per source of insurance. \n",
    "insurance_type = post_ACA.ix[:,(cols)]\n",
    "\n",
    "#Calculate total insured population and share of government coverage for each state.\n",
    "insurance_type['single_payer'] = insurance_type.ix[:,(3,4)].sum(1)/insurance_type.ix[:,('insured_pop')]\n",
    "insurance_type['market'] = 1- insurance_type.single_payer\n",
    "\n",
    "#Breakdown for each source of insurance.\n",
    "insurance_type['prop_employer'] = \\\n",
    "insurance_type['Employer Health Insurance Coverage (2015)']/insurance_type.insured_pop\n",
    "\n",
    "insurance_type['prop_marketplace'] = \\\n",
    "insurance_type['Marketplace Health Insurance Coverage (2016)']/insurance_type.insured_pop\n",
    "\n",
    "insurance_type['prop_medicaid'] = insurance_type['Medicaid Enrollment (2016)']/insurance_type.insured_pop\n",
    "insurance_type['prop_medicare'] = insurance_type['Medicare Enrollment (2016)']/insurance_type.insured_pop\n",
    "\n",
    "\n",
    "insurance_type.tail()"
   ]
  },
  {
   "cell_type": "code",
   "execution_count": 51,
   "metadata": {},
   "outputs": [
    {
     "name": "stdout",
     "output_type": "stream",
     "text": [
      "<class 'pandas.core.frame.DataFrame'>\n",
      "Int64Index: 52 entries, 0 to 51\n",
      "Data columns (total 12 columns):\n",
      "code                                            52 non-null object\n",
      "Employer Health Insurance Coverage (2015)       52 non-null int64\n",
      "Marketplace Health Insurance Coverage (2016)    52 non-null int64\n",
      "Medicaid Enrollment (2016)                      52 non-null int64\n",
      "Medicare Enrollment (2016)                      52 non-null int64\n",
      "insured_pop                                     52 non-null int64\n",
      "single_payer                                    52 non-null float64\n",
      "market                                          52 non-null float64\n",
      "prop_employer                                   52 non-null float64\n",
      "prop_marketplace                                52 non-null float64\n",
      "prop_medicaid                                   52 non-null float64\n",
      "prop_medicare                                   52 non-null float64\n",
      "dtypes: float64(6), int64(5), object(1)\n",
      "memory usage: 5.3+ KB\n"
     ]
    }
   ],
   "source": [
    "insurance_type.info()"
   ]
  },
  {
   "cell_type": "code",
   "execution_count": 52,
   "metadata": {},
   "outputs": [
    {
     "data": {
      "text/plain": [
       "count    51.000000\n",
       "mean      0.407070\n",
       "std       0.055971\n",
       "min       0.246141\n",
       "25%       0.370110\n",
       "50%       0.408761\n",
       "75%       0.442417\n",
       "max       0.553056\n",
       "Name: single_payer, dtype: float64"
      ]
     },
     "execution_count": 52,
     "metadata": {},
     "output_type": "execute_result"
    }
   ],
   "source": [
    "#Print stats for US:\n",
    "insurance_type.iloc[:-1].single_payer.describe() #mean = ~ 41%"
   ]
  },
  {
   "cell_type": "code",
   "execution_count": 53,
   "metadata": {},
   "outputs": [
    {
     "data": {
      "text/html": [
       "<div>\n",
       "<table border=\"1\" class=\"dataframe\">\n",
       "  <thead>\n",
       "    <tr style=\"text-align: right;\">\n",
       "      <th></th>\n",
       "      <th>code</th>\n",
       "      <th>Employer Health Insurance Coverage (2015)</th>\n",
       "      <th>Marketplace Health Insurance Coverage (2016)</th>\n",
       "      <th>Medicaid Enrollment (2016)</th>\n",
       "      <th>Medicare Enrollment (2016)</th>\n",
       "      <th>insured_pop</th>\n",
       "      <th>single_payer</th>\n",
       "      <th>market</th>\n",
       "      <th>prop_employer</th>\n",
       "      <th>prop_marketplace</th>\n",
       "      <th>prop_medicaid</th>\n",
       "      <th>prop_medicare</th>\n",
       "    </tr>\n",
       "  </thead>\n",
       "  <tbody>\n",
       "    <tr>\n",
       "      <th>3</th>\n",
       "      <td>AR</td>\n",
       "      <td>1365000</td>\n",
       "      <td>63357</td>\n",
       "      <td>920194</td>\n",
       "      <td>606146</td>\n",
       "      <td>2954697</td>\n",
       "      <td>0.516581</td>\n",
       "      <td>0.483419</td>\n",
       "      <td>0.461976</td>\n",
       "      <td>0.021443</td>\n",
       "      <td>0.311434</td>\n",
       "      <td>0.205147</td>\n",
       "    </tr>\n",
       "    <tr>\n",
       "      <th>31</th>\n",
       "      <td>NM</td>\n",
       "      <td>884000</td>\n",
       "      <td>47497</td>\n",
       "      <td>766732</td>\n",
       "      <td>385918</td>\n",
       "      <td>2084147</td>\n",
       "      <td>0.553056</td>\n",
       "      <td>0.446944</td>\n",
       "      <td>0.424154</td>\n",
       "      <td>0.022790</td>\n",
       "      <td>0.367888</td>\n",
       "      <td>0.185168</td>\n",
       "    </tr>\n",
       "  </tbody>\n",
       "</table>\n",
       "</div>"
      ],
      "text/plain": [
       "   code  Employer Health Insurance Coverage (2015)  \\\n",
       "3    AR                                    1365000   \n",
       "31   NM                                     884000   \n",
       "\n",
       "    Marketplace Health Insurance Coverage (2016)  Medicaid Enrollment (2016)  \\\n",
       "3                                          63357                      920194   \n",
       "31                                         47497                      766732   \n",
       "\n",
       "    Medicare Enrollment (2016)  insured_pop  single_payer    market  \\\n",
       "3                       606146      2954697      0.516581  0.483419   \n",
       "31                      385918      2084147      0.553056  0.446944   \n",
       "\n",
       "    prop_employer  prop_marketplace  prop_medicaid  prop_medicare  \n",
       "3        0.461976          0.021443       0.311434       0.205147  \n",
       "31       0.424154          0.022790       0.367888       0.185168  "
      ]
     },
     "execution_count": 53,
     "metadata": {},
     "output_type": "execute_result"
    }
   ],
   "source": [
    "#States where the government already covers more than 50% of the insured population\n",
    "insurance_type[insurance_type.single_payer >= 0.50]"
   ]
  },
  {
   "cell_type": "code",
   "execution_count": 54,
   "metadata": {},
   "outputs": [
    {
     "data": {
      "text/html": [
       "<div>\n",
       "<table border=\"1\" class=\"dataframe\">\n",
       "  <thead>\n",
       "    <tr style=\"text-align: right;\">\n",
       "      <th></th>\n",
       "      <th>code</th>\n",
       "      <th>Employer Health Insurance Coverage (2015)</th>\n",
       "      <th>Marketplace Health Insurance Coverage (2016)</th>\n",
       "      <th>Medicaid Enrollment (2016)</th>\n",
       "      <th>Medicare Enrollment (2016)</th>\n",
       "      <th>insured_pop</th>\n",
       "      <th>single_payer</th>\n",
       "      <th>market</th>\n",
       "      <th>prop_employer</th>\n",
       "      <th>prop_marketplace</th>\n",
       "      <th>prop_medicaid</th>\n",
       "      <th>prop_medicare</th>\n",
       "    </tr>\n",
       "  </thead>\n",
       "  <tbody>\n",
       "    <tr>\n",
       "      <th>44</th>\n",
       "      <td>UT</td>\n",
       "      <td>1897000</td>\n",
       "      <td>164415</td>\n",
       "      <td>314182</td>\n",
       "      <td>358887</td>\n",
       "      <td>2734484</td>\n",
       "      <td>0.246141</td>\n",
       "      <td>0.753859</td>\n",
       "      <td>0.693732</td>\n",
       "      <td>0.060127</td>\n",
       "      <td>0.114896</td>\n",
       "      <td>0.131245</td>\n",
       "    </tr>\n",
       "  </tbody>\n",
       "</table>\n",
       "</div>"
      ],
      "text/plain": [
       "   code  Employer Health Insurance Coverage (2015)  \\\n",
       "44   UT                                    1897000   \n",
       "\n",
       "    Marketplace Health Insurance Coverage (2016)  Medicaid Enrollment (2016)  \\\n",
       "44                                        164415                      314182   \n",
       "\n",
       "    Medicare Enrollment (2016)  insured_pop  single_payer    market  \\\n",
       "44                      358887      2734484      0.246141  0.753859   \n",
       "\n",
       "    prop_employer  prop_marketplace  prop_medicaid  prop_medicare  \n",
       "44       0.693732          0.060127       0.114896       0.131245  "
      ]
     },
     "execution_count": 54,
     "metadata": {},
     "output_type": "execute_result"
    }
   ],
   "source": [
    "#State where the government represents the lowest propertion of insurance source\n",
    "insurance_type[insurance_type.single_payer < 0.25]"
   ]
  },
  {
   "cell_type": "markdown",
   "metadata": {},
   "source": [
    "## Fig3a: Chart showing states where the government covers > 40% of the population"
   ]
  },
  {
   "cell_type": "code",
   "execution_count": 55,
   "metadata": {},
   "outputs": [
    {
     "data": {
      "image/png": "[encoded data removed]",
      "text/plain": [
       "<matplotlib.figure.Figure at 0x11958a1d0>"
      ]
     },
     "metadata": {
      "image/png": {
       "height": 377,
       "width": 935
      }
     },
     "output_type": "display_data"
    }
   ],
   "source": [
    "#Create plot. National mean = 41% of the population covered by Medicaid or Medicare (26 states above mean).\n",
    "ax = insurance_type[insurance_type.single_payer > .4].single_payer.sort_values(ascending=False).\\\n",
    "plot.bar(figsize=(16,6), fontsize=11, rot=0)\n",
    "\n",
    "labels = insurance_type.sort_values(by='single_payer', ascending=False)['code']\n",
    "ax.set_xticklabels(labels)\n",
    "ax.set_facecolor('#F9F9F9')\n",
    "ax.grid(color='#E4E4E4', linestyle='dotted', linewidth=1, axis ='y')\n",
    "\n",
    "plt.text(21, .52, '32 states (Medicaid & Medicare)', color='orange', size= 16, weight ='bold')\n",
    "plt.ylim(.2,.6)\n",
    "plt.title('States where > 40% of the Population is Insured by the Government (2016)', fontsize=19, color='navy');"
   ]
  },
  {
   "cell_type": "markdown",
   "metadata": {},
   "source": [
    "## Fig3b: Chart showing the proportion of government insurance coverage per state"
   ]
  },
  {
   "cell_type": "code",
   "execution_count": 56,
   "metadata": {},
   "outputs": [
    {
     "data": {
      "text/plain": [
       "(1.039574, 77.280572000000006)"
      ]
     },
     "execution_count": 56,
     "metadata": {},
     "output_type": "execute_result"
    }
   ],
   "source": [
    "#Scale size of insured population to be used as bubble dimension\n",
    "\n",
    "#color= ['hsl('+str(h)+',50%'+',50%)' for h in np.linspace(0, 360, N)]\n",
    "size = insurance_type.iloc[:-1, :].insured_pop/500000. #disregard last row which is data for the US\n",
    "size.min(), size.max()"
   ]
  },
  {
   "cell_type": "code",
   "execution_count": 57,
   "metadata": {},
   "outputs": [
    {
     "data": {
      "text/html": [
       "<iframe id=\"igraph\" scrolling=\"no\" style=\"border:none;\" seamless=\"seamless\" src=\"https://plot.ly/~prpca1999/126.embed\" height=\"525px\" width=\"100%\"></iframe>"
      ],
      "text/plain": [
       "<plotly.tools.PlotlyDisplay object>"
      ]
     },
     "execution_count": 57,
     "metadata": {},
     "output_type": "execute_result"
    }
   ],
   "source": [
    "#Bubble chart: proportion of single payer per state (similar to Fig3a but showing all states). Nationwide mean: 41%\n",
    "#The bubble size is proportional to the total insured population in each state.\n",
    "\n",
    "trace = go.Scatter (x = insurance_type.iloc[:-1, :].code, \n",
    "                    y = insurance_type.iloc[:-1, :].single_payer,\n",
    "                    text = 'Proportion of Medicare + Medicaid',\n",
    "                    marker = dict(size = size, \n",
    "                                  color=range(len(insurance_type)-1), \n",
    "                                  opacity= 0.7, \n",
    "                                  colorscale='Viridis'), \n",
    "                    mode = 'markers')\n",
    "\n",
    "\n",
    "layout = dict(\n",
    "    title = 'Proportion of Insured Population Covered by the Government<br>(bubble size is proportional to population)',\n",
    "    xaxis=dict(tickangle=-90)\n",
    ")\n",
    "\n",
    "\n",
    "data=[trace]\n",
    "fig = dict(data=data, layout=layout)\n",
    "py.iplot(fig, filename='proportion-single-payer')"
   ]
  },
  {
   "cell_type": "markdown",
   "metadata": {},
   "source": [
    "## Fig4a: Chart with breakdown of source of coverage for top 10 states by insured population"
   ]
  },
  {
   "cell_type": "code",
   "execution_count": 58,
   "metadata": {
    "collapsed": true
   },
   "outputs": [],
   "source": [
    "#Select top 10 states by insured population\n",
    "top10_pop = insurance_type.sort_values(by='insured_pop', ascending=False).head(11)"
   ]
  },
  {
   "cell_type": "code",
   "execution_count": 59,
   "metadata": {
    "collapsed": true
   },
   "outputs": [],
   "source": [
    "#Create function to format tick values\n",
    "def millions_format(x, pos):\n",
    "    \"\"\"\n",
    "    Args are the value and tick position. \n",
    "    Returns number of millions with one decimal, and M in lieu of 6 zeros.\n",
    "    \"\"\"\n",
    "    return '{:.0f}{}'.format(x * 1e-6, 'M') "
   ]
  },
  {
   "cell_type": "code",
   "execution_count": 60,
   "metadata": {},
   "outputs": [
    {
     "data": {
      "image/png": "[encoded data removed]",
      "text/plain": [
       "<matplotlib.figure.Figure at 0x11c537850>"
      ]
     },
     "metadata": {
      "image/png": {
       "height": 377,
       "width": 935
      }
     },
     "output_type": "display_data"
    }
   ],
   "source": [
    "#Create plot (data is mostly for 2016, see legend)\n",
    "ax = top10_pop.iloc[1:,(1,3,4,2)].plot.bar(stacked=True,figsize=(16,6), fontsize=11, rot=0)\n",
    "\n",
    "formatter = FuncFormatter(millions_format)\n",
    "ax.yaxis.set_major_formatter(formatter)\n",
    "\n",
    "top10 = ['CA', 'TX', 'NY', 'FL', 'PA', 'IL', 'OH', 'MI', 'NC', 'GA']\n",
    "ax.set_xticklabels(top10)\n",
    "\n",
    "ax.set_facecolor('#F9F9F9')\n",
    "\n",
    "plt.title('Source of Coverage Breakdown for the Top 10 States by Insured Population', fontsize=19, color='navy');"
   ]
  },
  {
   "cell_type": "markdown",
   "metadata": {},
   "source": [
    "## Fig4b: Interactive version of stacked bar chart above to aid visualization"
   ]
  },
  {
   "cell_type": "code",
   "execution_count": 61,
   "metadata": {},
   "outputs": [
    {
     "data": {
      "text/html": [
       "<div>\n",
       "<table border=\"1\" class=\"dataframe\">\n",
       "  <thead>\n",
       "    <tr style=\"text-align: right;\">\n",
       "      <th></th>\n",
       "      <th>code</th>\n",
       "      <th>Employer Health Insurance Coverage (2015)</th>\n",
       "      <th>Marketplace Health Insurance Coverage (2016)</th>\n",
       "      <th>Medicaid Enrollment (2016)</th>\n",
       "      <th>Medicare Enrollment (2016)</th>\n",
       "      <th>insured_pop</th>\n",
       "      <th>single_payer</th>\n",
       "      <th>market</th>\n",
       "      <th>prop_employer</th>\n",
       "      <th>prop_marketplace</th>\n",
       "      <th>prop_medicaid</th>\n",
       "      <th>prop_medicare</th>\n",
       "    </tr>\n",
       "  </thead>\n",
       "  <tbody>\n",
       "    <tr>\n",
       "      <th>51</th>\n",
       "      <td>US</td>\n",
       "      <td>172292000</td>\n",
       "      <td>11081330</td>\n",
       "      <td>73532931</td>\n",
       "      <td>57149984</td>\n",
       "      <td>314056245</td>\n",
       "      <td>0.416113</td>\n",
       "      <td>0.583887</td>\n",
       "      <td>0.548602</td>\n",
       "      <td>0.035285</td>\n",
       "      <td>0.234139</td>\n",
       "      <td>0.181974</td>\n",
       "    </tr>\n",
       "    <tr>\n",
       "      <th>4</th>\n",
       "      <td>CA</td>\n",
       "      <td>19552000</td>\n",
       "      <td>1415428</td>\n",
       "      <td>11843081</td>\n",
       "      <td>5829777</td>\n",
       "      <td>38640286</td>\n",
       "      <td>0.457369</td>\n",
       "      <td>0.542631</td>\n",
       "      <td>0.506000</td>\n",
       "      <td>0.036631</td>\n",
       "      <td>0.306496</td>\n",
       "      <td>0.150873</td>\n",
       "    </tr>\n",
       "    <tr>\n",
       "      <th>43</th>\n",
       "      <td>TX</td>\n",
       "      <td>13709000</td>\n",
       "      <td>1092650</td>\n",
       "      <td>4770229</td>\n",
       "      <td>3765946</td>\n",
       "      <td>23337825</td>\n",
       "      <td>0.365766</td>\n",
       "      <td>0.634234</td>\n",
       "      <td>0.587415</td>\n",
       "      <td>0.046819</td>\n",
       "      <td>0.204399</td>\n",
       "      <td>0.161367</td>\n",
       "    </tr>\n",
       "    <tr>\n",
       "      <th>32</th>\n",
       "      <td>NY</td>\n",
       "      <td>10895000</td>\n",
       "      <td>224014</td>\n",
       "      <td>6431165</td>\n",
       "      <td>3424666</td>\n",
       "      <td>20974845</td>\n",
       "      <td>0.469888</td>\n",
       "      <td>0.530112</td>\n",
       "      <td>0.519432</td>\n",
       "      <td>0.010680</td>\n",
       "      <td>0.306613</td>\n",
       "      <td>0.163275</td>\n",
       "    </tr>\n",
       "    <tr>\n",
       "      <th>9</th>\n",
       "      <td>FL</td>\n",
       "      <td>8847000</td>\n",
       "      <td>1531714</td>\n",
       "      <td>3644673</td>\n",
       "      <td>4149593</td>\n",
       "      <td>18172980</td>\n",
       "      <td>0.428893</td>\n",
       "      <td>0.571107</td>\n",
       "      <td>0.486822</td>\n",
       "      <td>0.084285</td>\n",
       "      <td>0.200555</td>\n",
       "      <td>0.228339</td>\n",
       "    </tr>\n",
       "    <tr>\n",
       "      <th>38</th>\n",
       "      <td>PA</td>\n",
       "      <td>7502000</td>\n",
       "      <td>412347</td>\n",
       "      <td>2883114</td>\n",
       "      <td>2588577</td>\n",
       "      <td>13386038</td>\n",
       "      <td>0.408761</td>\n",
       "      <td>0.591239</td>\n",
       "      <td>0.560435</td>\n",
       "      <td>0.030804</td>\n",
       "      <td>0.215382</td>\n",
       "      <td>0.193379</td>\n",
       "    </tr>\n",
       "    <tr>\n",
       "      <th>13</th>\n",
       "      <td>IL</td>\n",
       "      <td>7359000</td>\n",
       "      <td>335243</td>\n",
       "      <td>3117939</td>\n",
       "      <td>2118300</td>\n",
       "      <td>12930482</td>\n",
       "      <td>0.404953</td>\n",
       "      <td>0.595047</td>\n",
       "      <td>0.569120</td>\n",
       "      <td>0.025927</td>\n",
       "      <td>0.241131</td>\n",
       "      <td>0.163822</td>\n",
       "    </tr>\n",
       "    <tr>\n",
       "      <th>35</th>\n",
       "      <td>OH</td>\n",
       "      <td>6831000</td>\n",
       "      <td>212046</td>\n",
       "      <td>3003170</td>\n",
       "      <td>2208504</td>\n",
       "      <td>12254720</td>\n",
       "      <td>0.425279</td>\n",
       "      <td>0.574721</td>\n",
       "      <td>0.557418</td>\n",
       "      <td>0.017303</td>\n",
       "      <td>0.245062</td>\n",
       "      <td>0.180217</td>\n",
       "    </tr>\n",
       "    <tr>\n",
       "      <th>22</th>\n",
       "      <td>MI</td>\n",
       "      <td>5876000</td>\n",
       "      <td>313123</td>\n",
       "      <td>2300958</td>\n",
       "      <td>1947787</td>\n",
       "      <td>10437868</td>\n",
       "      <td>0.407051</td>\n",
       "      <td>0.592949</td>\n",
       "      <td>0.562950</td>\n",
       "      <td>0.029999</td>\n",
       "      <td>0.220443</td>\n",
       "      <td>0.186608</td>\n",
       "    </tr>\n",
       "    <tr>\n",
       "      <th>33</th>\n",
       "      <td>NC</td>\n",
       "      <td>4934000</td>\n",
       "      <td>545354</td>\n",
       "      <td>2072282</td>\n",
       "      <td>1823454</td>\n",
       "      <td>9375090</td>\n",
       "      <td>0.415541</td>\n",
       "      <td>0.584459</td>\n",
       "      <td>0.526288</td>\n",
       "      <td>0.058171</td>\n",
       "      <td>0.221041</td>\n",
       "      <td>0.194500</td>\n",
       "    </tr>\n",
       "    <tr>\n",
       "      <th>10</th>\n",
       "      <td>GA</td>\n",
       "      <td>5240000</td>\n",
       "      <td>478016</td>\n",
       "      <td>1782301</td>\n",
       "      <td>1574058</td>\n",
       "      <td>9074375</td>\n",
       "      <td>0.369872</td>\n",
       "      <td>0.630128</td>\n",
       "      <td>0.577450</td>\n",
       "      <td>0.052678</td>\n",
       "      <td>0.196410</td>\n",
       "      <td>0.173462</td>\n",
       "    </tr>\n",
       "  </tbody>\n",
       "</table>\n",
       "</div>"
      ],
      "text/plain": [
       "   code  Employer Health Insurance Coverage (2015)  \\\n",
       "51   US                                  172292000   \n",
       "4    CA                                   19552000   \n",
       "43   TX                                   13709000   \n",
       "32   NY                                   10895000   \n",
       "9    FL                                    8847000   \n",
       "38   PA                                    7502000   \n",
       "13   IL                                    7359000   \n",
       "35   OH                                    6831000   \n",
       "22   MI                                    5876000   \n",
       "33   NC                                    4934000   \n",
       "10   GA                                    5240000   \n",
       "\n",
       "    Marketplace Health Insurance Coverage (2016)  Medicaid Enrollment (2016)  \\\n",
       "51                                      11081330                    73532931   \n",
       "4                                        1415428                    11843081   \n",
       "43                                       1092650                     4770229   \n",
       "32                                        224014                     6431165   \n",
       "9                                        1531714                     3644673   \n",
       "38                                        412347                     2883114   \n",
       "13                                        335243                     3117939   \n",
       "35                                        212046                     3003170   \n",
       "22                                        313123                     2300958   \n",
       "33                                        545354                     2072282   \n",
       "10                                        478016                     1782301   \n",
       "\n",
       "    Medicare Enrollment (2016)  insured_pop  single_payer    market  \\\n",
       "51                    57149984    314056245      0.416113  0.583887   \n",
       "4                      5829777     38640286      0.457369  0.542631   \n",
       "43                     3765946     23337825      0.365766  0.634234   \n",
       "32                     3424666     20974845      0.469888  0.530112   \n",
       "9                      4149593     18172980      0.428893  0.571107   \n",
       "38                     2588577     13386038      0.408761  0.591239   \n",
       "13                     2118300     12930482      0.404953  0.595047   \n",
       "35                     2208504     12254720      0.425279  0.574721   \n",
       "22                     1947787     10437868      0.407051  0.592949   \n",
       "33                     1823454      9375090      0.415541  0.584459   \n",
       "10                     1574058      9074375      0.369872  0.630128   \n",
       "\n",
       "    prop_employer  prop_marketplace  prop_medicaid  prop_medicare  \n",
       "51       0.548602          0.035285       0.234139       0.181974  \n",
       "4        0.506000          0.036631       0.306496       0.150873  \n",
       "43       0.587415          0.046819       0.204399       0.161367  \n",
       "32       0.519432          0.010680       0.306613       0.163275  \n",
       "9        0.486822          0.084285       0.200555       0.228339  \n",
       "38       0.560435          0.030804       0.215382       0.193379  \n",
       "13       0.569120          0.025927       0.241131       0.163822  \n",
       "35       0.557418          0.017303       0.245062       0.180217  \n",
       "22       0.562950          0.029999       0.220443       0.186608  \n",
       "33       0.526288          0.058171       0.221041       0.194500  \n",
       "10       0.577450          0.052678       0.196410       0.173462  "
      ]
     },
     "execution_count": 61,
     "metadata": {},
     "output_type": "execute_result"
    }
   ],
   "source": [
    "top10_pop"
   ]
  },
  {
   "cell_type": "code",
   "execution_count": 62,
   "metadata": {},
   "outputs": [
    {
     "data": {
      "text/html": [
       "<iframe id=\"igraph\" scrolling=\"no\" style=\"border:none;\" seamless=\"seamless\" src=\"https://plot.ly/~prpca1999/134.embed\" height=\"525px\" width=\"100%\"></iframe>"
      ],
      "text/plain": [
       "<plotly.tools.PlotlyDisplay object>"
      ]
     },
     "execution_count": 62,
     "metadata": {},
     "output_type": "execute_result"
    }
   ],
   "source": [
    "#Create plot. Note: there is a daily limit to the number of Plotly's API calls. An error will be raised beyond limit.\n",
    "#Color palette source: http://colrd.com/palette/27656/ \n",
    "#Baseline: #55% employer, 23.5% medicaid, 3.5% marketplace, 18% medicare\n",
    "\n",
    "data = [\n",
    "    go.Bar(\n",
    "        x=top10,\n",
    "        y=top10_pop.iloc[1:,1],\n",
    "        name = 'Employer',\n",
    "        text = top10_pop.prop_employer.iloc[1:].apply(lambda x: '{:,.0f}'.format(x*100)) + '%',\n",
    "        marker=dict(\n",
    "        color='rgb(161,173,167)'\n",
    "        ),\n",
    "    ),\n",
    "    go.Bar(\n",
    "        x=top10,\n",
    "        y=top10_pop.iloc[1:,3],\n",
    "        name = 'Medicaid',\n",
    "        text = top10_pop.prop_medicaid.iloc[1:].apply(lambda x: '{:,.0f}'.format(x*100)) + '%',\n",
    "        marker=dict(\n",
    "        color='rgb(62,152,195)'\n",
    "        ),\n",
    "    ),\n",
    "    go.Bar(\n",
    "        x=top10,\n",
    "        y=top10_pop.iloc[1:,4],\n",
    "        name = 'Medicare',\n",
    "        text = top10_pop.prop_medicare.iloc[1:].apply(lambda x: '{:,.0f}'.format(x*100)) + '%',\n",
    "        marker=dict(\n",
    "        color='rgb(13,96,136)'\n",
    "        ),\n",
    "    ),\n",
    "    go.Bar(\n",
    "        x=top10,\n",
    "        y=top10_pop.iloc[1:,2],\n",
    "        name = 'Marketplace',\n",
    "        text = top10_pop.prop_marketplace.iloc[1:].apply(lambda x: '{:,.1f}'.format(x*100)) + '%',\n",
    "        marker=dict(\n",
    "        color='rgb(108,195,9)'\n",
    "        ),\n",
    "    )\n",
    "\n",
    "]\n",
    "\n",
    "layout = go.Layout(\n",
    "    barmode='stack',\n",
    "    title='Source of Coverage Breakdown for the Top 10 States by Insured Population'\n",
    ")\n",
    "\n",
    "fig = go.Figure(data=data, layout=layout)\n",
    "py.iplot(fig, filename='insurance-source-breakdown')"
   ]
  },
  {
   "cell_type": "markdown",
   "metadata": {},
   "source": [
    "## Explore Medicare data"
   ]
  },
  {
   "cell_type": "code",
   "execution_count": 63,
   "metadata": {
    "collapsed": true
   },
   "outputs": [],
   "source": [
    "#Select Medicare data\n",
    "medicare = insurance_type[['code', 'Medicare Enrollment (2016)', 'insured_pop']]\\\n",
    ".sort_values(by='Medicare Enrollment (2016)', ascending=False).iloc[1:,:]"
   ]
  },
  {
   "cell_type": "code",
   "execution_count": 64,
   "metadata": {
    "collapsed": true
   },
   "outputs": [],
   "source": [
    "#Get top 10 states by number of Medicare enrollees\n",
    "medicare_top10 = medicare.head(10).copy()"
   ]
  },
  {
   "cell_type": "code",
   "execution_count": 65,
   "metadata": {
    "collapsed": true
   },
   "outputs": [],
   "source": [
    "#Estimated total population 65 years or older per state in 2015 (source: US Census website)\n",
    "pop_65 = pd.Series([5188754, 3942468, 3225168, 2964315, 2179788, 1842952, 1830277, 1570671, 1516824, 1304924], \n",
    "                  index= medicare_top10.index)"
   ]
  },
  {
   "cell_type": "code",
   "execution_count": 66,
   "metadata": {},
   "outputs": [
    {
     "data": {
      "text/html": [
       "<div>\n",
       "<table border=\"1\" class=\"dataframe\">\n",
       "  <thead>\n",
       "    <tr style=\"text-align: right;\">\n",
       "      <th></th>\n",
       "      <th>State</th>\n",
       "      <th>pop_2016</th>\n",
       "    </tr>\n",
       "  </thead>\n",
       "  <tbody>\n",
       "    <tr>\n",
       "      <th>4</th>\n",
       "      <td>California</td>\n",
       "      <td>39250017</td>\n",
       "    </tr>\n",
       "    <tr>\n",
       "      <th>9</th>\n",
       "      <td>Florida</td>\n",
       "      <td>20612439</td>\n",
       "    </tr>\n",
       "    <tr>\n",
       "      <th>43</th>\n",
       "      <td>Texas</td>\n",
       "      <td>27862596</td>\n",
       "    </tr>\n",
       "    <tr>\n",
       "      <th>32</th>\n",
       "      <td>New York</td>\n",
       "      <td>19745289</td>\n",
       "    </tr>\n",
       "    <tr>\n",
       "      <th>38</th>\n",
       "      <td>Pennsylvania</td>\n",
       "      <td>12784227</td>\n",
       "    </tr>\n",
       "  </tbody>\n",
       "</table>\n",
       "</div>"
      ],
      "text/plain": [
       "           State  pop_2016\n",
       "4     California  39250017\n",
       "9        Florida  20612439\n",
       "43         Texas  27862596\n",
       "32      New York  19745289\n",
       "38  Pennsylvania  12784227"
      ]
     },
     "execution_count": 66,
     "metadata": {},
     "output_type": "execute_result"
    }
   ],
   "source": [
    "#Load total population for top 10 states (source: US Census website, downloaded as pop_65+_perState.csv)\n",
    "popTop10 = pd.read_csv('Data/pop_2016.csv')\n",
    "popTop10.index = medicare_top10.index\n",
    "popTop10.head()"
   ]
  },
  {
   "cell_type": "code",
   "execution_count": 67,
   "metadata": {
    "collapsed": true
   },
   "outputs": [],
   "source": [
    "#Add columns with % of insured population covered by Medicare, population 65 and over, and total population.\n",
    "medicare_top10.loc[:,'total_pop'] = popTop10.pop_2016\n",
    "medicare_top10.loc[:,'pop_over_65'] = pop_65\n",
    "medicare_top10['%Medicare'] = 100*medicare_top10['Medicare Enrollment (2016)']/medicare_top10.total_pop\n",
    "medicare_top10.loc[:,'perc_over_65'] = 100*medicare_top10.pop_over_65/medicare_top10.total_pop"
   ]
  },
  {
   "cell_type": "code",
   "execution_count": 68,
   "metadata": {},
   "outputs": [
    {
     "data": {
      "text/plain": [
       "0.5149723576475542"
      ]
     },
     "execution_count": 68,
     "metadata": {},
     "output_type": "execute_result"
    }
   ],
   "source": [
    "#The top 10 states represent 51% of all Medicare enrollees\n",
    "US_medicare_total = insurance_type['Medicare Enrollment (2016)'][51]\n",
    "medicare_top10['Medicare Enrollment (2016)'].sum()*1./US_medicare_total"
   ]
  },
  {
   "cell_type": "code",
   "execution_count": 69,
   "metadata": {},
   "outputs": [
    {
     "data": {
      "text/html": [
       "<div>\n",
       "<table border=\"1\" class=\"dataframe\">\n",
       "  <thead>\n",
       "    <tr style=\"text-align: right;\">\n",
       "      <th></th>\n",
       "      <th>code</th>\n",
       "      <th>Medicare Enrollment (2016)</th>\n",
       "      <th>insured_pop</th>\n",
       "      <th>total_pop</th>\n",
       "      <th>pop_over_65</th>\n",
       "      <th>%Medicare</th>\n",
       "      <th>perc_over_65</th>\n",
       "    </tr>\n",
       "  </thead>\n",
       "  <tbody>\n",
       "    <tr>\n",
       "      <th>4</th>\n",
       "      <td>CA</td>\n",
       "      <td>5829777</td>\n",
       "      <td>38640286</td>\n",
       "      <td>39250017</td>\n",
       "      <td>5188754</td>\n",
       "      <td>14.852929</td>\n",
       "      <td>13.219750</td>\n",
       "    </tr>\n",
       "    <tr>\n",
       "      <th>9</th>\n",
       "      <td>FL</td>\n",
       "      <td>4149593</td>\n",
       "      <td>18172980</td>\n",
       "      <td>20612439</td>\n",
       "      <td>3942468</td>\n",
       "      <td>20.131499</td>\n",
       "      <td>19.126645</td>\n",
       "    </tr>\n",
       "    <tr>\n",
       "      <th>43</th>\n",
       "      <td>TX</td>\n",
       "      <td>3765946</td>\n",
       "      <td>23337825</td>\n",
       "      <td>27862596</td>\n",
       "      <td>3225168</td>\n",
       "      <td>13.516135</td>\n",
       "      <td>11.575260</td>\n",
       "    </tr>\n",
       "    <tr>\n",
       "      <th>32</th>\n",
       "      <td>NY</td>\n",
       "      <td>3424666</td>\n",
       "      <td>20974845</td>\n",
       "      <td>19745289</td>\n",
       "      <td>2964315</td>\n",
       "      <td>17.344218</td>\n",
       "      <td>15.012771</td>\n",
       "    </tr>\n",
       "    <tr>\n",
       "      <th>38</th>\n",
       "      <td>PA</td>\n",
       "      <td>2588577</td>\n",
       "      <td>13386038</td>\n",
       "      <td>12784227</td>\n",
       "      <td>2179788</td>\n",
       "      <td>20.248209</td>\n",
       "      <td>17.050605</td>\n",
       "    </tr>\n",
       "    <tr>\n",
       "      <th>35</th>\n",
       "      <td>OH</td>\n",
       "      <td>2208504</td>\n",
       "      <td>12254720</td>\n",
       "      <td>11614373</td>\n",
       "      <td>1842952</td>\n",
       "      <td>19.015267</td>\n",
       "      <td>15.867856</td>\n",
       "    </tr>\n",
       "    <tr>\n",
       "      <th>13</th>\n",
       "      <td>IL</td>\n",
       "      <td>2118300</td>\n",
       "      <td>12930482</td>\n",
       "      <td>12801539</td>\n",
       "      <td>1830277</td>\n",
       "      <td>16.547229</td>\n",
       "      <td>14.297320</td>\n",
       "    </tr>\n",
       "    <tr>\n",
       "      <th>22</th>\n",
       "      <td>MI</td>\n",
       "      <td>1947787</td>\n",
       "      <td>10437868</td>\n",
       "      <td>9928300</td>\n",
       "      <td>1570671</td>\n",
       "      <td>19.618535</td>\n",
       "      <td>15.820140</td>\n",
       "    </tr>\n",
       "    <tr>\n",
       "      <th>33</th>\n",
       "      <td>NC</td>\n",
       "      <td>1823454</td>\n",
       "      <td>9375090</td>\n",
       "      <td>10146788</td>\n",
       "      <td>1516824</td>\n",
       "      <td>17.970751</td>\n",
       "      <td>14.948809</td>\n",
       "    </tr>\n",
       "    <tr>\n",
       "      <th>10</th>\n",
       "      <td>GA</td>\n",
       "      <td>1574058</td>\n",
       "      <td>9074375</td>\n",
       "      <td>10310371</td>\n",
       "      <td>1304924</td>\n",
       "      <td>15.266745</td>\n",
       "      <td>12.656421</td>\n",
       "    </tr>\n",
       "  </tbody>\n",
       "</table>\n",
       "</div>"
      ],
      "text/plain": [
       "   code  Medicare Enrollment (2016)  insured_pop  total_pop  pop_over_65  \\\n",
       "4    CA                     5829777     38640286   39250017      5188754   \n",
       "9    FL                     4149593     18172980   20612439      3942468   \n",
       "43   TX                     3765946     23337825   27862596      3225168   \n",
       "32   NY                     3424666     20974845   19745289      2964315   \n",
       "38   PA                     2588577     13386038   12784227      2179788   \n",
       "35   OH                     2208504     12254720   11614373      1842952   \n",
       "13   IL                     2118300     12930482   12801539      1830277   \n",
       "22   MI                     1947787     10437868    9928300      1570671   \n",
       "33   NC                     1823454      9375090   10146788      1516824   \n",
       "10   GA                     1574058      9074375   10310371      1304924   \n",
       "\n",
       "    %Medicare  perc_over_65  \n",
       "4   14.852929     13.219750  \n",
       "9   20.131499     19.126645  \n",
       "43  13.516135     11.575260  \n",
       "32  17.344218     15.012771  \n",
       "38  20.248209     17.050605  \n",
       "35  19.015267     15.867856  \n",
       "13  16.547229     14.297320  \n",
       "22  19.618535     15.820140  \n",
       "33  17.970751     14.948809  \n",
       "10  15.266745     12.656421  "
      ]
     },
     "execution_count": 69,
     "metadata": {},
     "output_type": "execute_result"
    }
   ],
   "source": [
    "#States with the largest numbers of individuals insured by Medicare are also the states with the largest \n",
    "#population aged 65 or older. The top 10 states represent 51% of all Medicare enrollees.\n",
    "medicare_top10"
   ]
  },
  {
   "cell_type": "markdown",
   "metadata": {},
   "source": [
    "## Fig5: Chart showing Top 10 Medicare Markets"
   ]
  },
  {
   "cell_type": "code",
   "execution_count": 70,
   "metadata": {
    "collapsed": true
   },
   "outputs": [],
   "source": [
    "#Create text to show when hovering over map\n",
    "medicare_top10['text'] = medicare_top10['code'] + '<br>' +\\\n",
    "'Total Population over 65: ' + medicare_top10['perc_over_65'].apply(lambda x: '{:,.1f}'.format(x)) + '%'+'<br>' +\\\n",
    "'Total Population on Medicare: '+ medicare_top10['%Medicare'].apply(lambda x: '{:,.1f}'.format(x)) + '%'"
   ]
  },
  {
   "cell_type": "code",
   "execution_count": 71,
   "metadata": {},
   "outputs": [
    {
     "data": {
      "text/plain": [
       "'CA<br>Total Population over 65: 13.2%<br>Total Population on Medicare: 14.9%'"
      ]
     },
     "execution_count": 71,
     "metadata": {},
     "output_type": "execute_result"
    }
   ],
   "source": [
    "medicare_top10.text[4]"
   ]
  },
  {
   "cell_type": "code",
   "execution_count": 72,
   "metadata": {},
   "outputs": [
    {
     "data": {
      "text/html": [
       "<iframe id=\"igraph\" scrolling=\"no\" style=\"border:none;\" seamless=\"seamless\" src=\"https://plot.ly/~prpca1999/122.embed\" height=\"525px\" width=\"100%\"></iframe>"
      ],
      "text/plain": [
       "<plotly.tools.PlotlyDisplay object>"
      ]
     },
     "execution_count": 72,
     "metadata": {},
     "output_type": "execute_result"
    }
   ],
   "source": [
    "#Visualize Top 10 Medicare markets (by number of enrollees), by number of population 65 years or older.\n",
    "\n",
    "trace0 = go.Bar(\n",
    "    x=medicare_top10.code,\n",
    "    y=medicare_top10['Medicare Enrollment (2016)'],\n",
    "    text=medicare_top10['text'],\n",
    "    marker=dict(\n",
    "        color=range(len(medicare_top10.code)),\n",
    "        colorscale='Viridis'\n",
    "    ),\n",
    "    opacity=0.7\n",
    ")\n",
    "\n",
    "data = [trace0]\n",
    "layout = go.Layout(\n",
    "    title='Top 10 Medicare Markets by Number of Enrollees (2016)',\n",
    ")\n",
    "\n",
    "fig = go.Figure(data=data, layout=layout)\n",
    "py.iplot(fig, filename='top10-medicare-markets')"
   ]
  },
  {
   "cell_type": "markdown",
   "metadata": {},
   "source": [
    "## Explore Medicaid data"
   ]
  },
  {
   "cell_type": "code",
   "execution_count": 73,
   "metadata": {},
   "outputs": [
    {
     "data": {
      "text/html": [
       "<div>\n",
       "<table border=\"1\" class=\"dataframe\">\n",
       "  <thead>\n",
       "    <tr style=\"text-align: right;\">\n",
       "      <th></th>\n",
       "      <th>medicaid_delta</th>\n",
       "      <th>code</th>\n",
       "      <th>State Medicaid Expansion (2016)</th>\n",
       "    </tr>\n",
       "  </thead>\n",
       "  <tbody>\n",
       "    <tr>\n",
       "      <th>4</th>\n",
       "      <td>25.379735</td>\n",
       "      <td>CA</td>\n",
       "      <td>True</td>\n",
       "    </tr>\n",
       "    <tr>\n",
       "      <th>32</th>\n",
       "      <td>4.673666</td>\n",
       "      <td>NY</td>\n",
       "      <td>True</td>\n",
       "    </tr>\n",
       "    <tr>\n",
       "      <th>47</th>\n",
       "      <td>4.165860</td>\n",
       "      <td>WA</td>\n",
       "      <td>True</td>\n",
       "    </tr>\n",
       "    <tr>\n",
       "      <th>35</th>\n",
       "      <td>4.108298</td>\n",
       "      <td>OH</td>\n",
       "      <td>True</td>\n",
       "    </tr>\n",
       "    <tr>\n",
       "      <th>17</th>\n",
       "      <td>3.812101</td>\n",
       "      <td>KY</td>\n",
       "      <td>True</td>\n",
       "    </tr>\n",
       "    <tr>\n",
       "      <th>5</th>\n",
       "      <td>3.674644</td>\n",
       "      <td>CO</td>\n",
       "      <td>True</td>\n",
       "    </tr>\n",
       "    <tr>\n",
       "      <th>9</th>\n",
       "      <td>3.350750</td>\n",
       "      <td>FL</td>\n",
       "      <td>False</td>\n",
       "    </tr>\n",
       "    <tr>\n",
       "      <th>2</th>\n",
       "      <td>3.193984</td>\n",
       "      <td>AZ</td>\n",
       "      <td>True</td>\n",
       "    </tr>\n",
       "    <tr>\n",
       "      <th>30</th>\n",
       "      <td>3.108612</td>\n",
       "      <td>NJ</td>\n",
       "      <td>True</td>\n",
       "    </tr>\n",
       "    <tr>\n",
       "      <th>38</th>\n",
       "      <td>3.086199</td>\n",
       "      <td>PA</td>\n",
       "      <td>True</td>\n",
       "    </tr>\n",
       "    <tr>\n",
       "      <th>13</th>\n",
       "      <td>3.048499</td>\n",
       "      <td>IL</td>\n",
       "      <td>True</td>\n",
       "    </tr>\n",
       "    <tr>\n",
       "      <th>33</th>\n",
       "      <td>2.957440</td>\n",
       "      <td>NC</td>\n",
       "      <td>False</td>\n",
       "    </tr>\n",
       "  </tbody>\n",
       "</table>\n",
       "</div>"
      ],
      "text/plain": [
       "    medicaid_delta code State Medicaid Expansion (2016)\n",
       "4        25.379735   CA                            True\n",
       "32        4.673666   NY                            True\n",
       "47        4.165860   WA                            True\n",
       "35        4.108298   OH                            True\n",
       "17        3.812101   KY                            True\n",
       "5         3.674644   CO                            True\n",
       "9         3.350750   FL                           False\n",
       "2         3.193984   AZ                            True\n",
       "30        3.108612   NJ                            True\n",
       "38        3.086199   PA                            True\n",
       "13        3.048499   IL                            True\n",
       "33        2.957440   NC                           False"
      ]
     },
     "execution_count": 73,
     "metadata": {},
     "output_type": "execute_result"
    }
   ],
   "source": [
    "#Check states with the largest proportion (> 2.5%) of additional Medicaid enrollees between 2013 and 2016.\n",
    "post_ACA[post_ACA['medicaid_delta'] >2.5][['medicaid_delta', 'code', 'State Medicaid Expansion (2016)']].\\\n",
    "sort_values(by='medicaid_delta', ascending=False)[1:]"
   ]
  },
  {
   "cell_type": "code",
   "execution_count": 74,
   "metadata": {},
   "outputs": [
    {
     "data": {
      "text/html": [
       "<div>\n",
       "<table border=\"1\" class=\"dataframe\">\n",
       "  <thead>\n",
       "    <tr style=\"text-align: right;\">\n",
       "      <th></th>\n",
       "      <th>State</th>\n",
       "      <th>Uninsured Rate (2010)</th>\n",
       "      <th>Uninsured Rate (2015)</th>\n",
       "      <th>Uninsured Rate Change (2010-2015)</th>\n",
       "      <th>Health Insurance Coverage Change (2010-2015)</th>\n",
       "      <th>Employer Health Insurance Coverage (2015)</th>\n",
       "      <th>Marketplace Health Insurance Coverage (2016)</th>\n",
       "      <th>Marketplace Tax Credits (2016)</th>\n",
       "      <th>Average Monthly Tax Credit (2016)</th>\n",
       "      <th>State Medicaid Expansion (2016)</th>\n",
       "      <th>Medicaid Enrollment (2013)</th>\n",
       "      <th>Medicaid Enrollment (2016)</th>\n",
       "      <th>Medicaid Enrollment Change (2013-2016)</th>\n",
       "      <th>Medicare Enrollment (2016)</th>\n",
       "      <th>code</th>\n",
       "      <th>insured_pop</th>\n",
       "      <th>medicaid_delta</th>\n",
       "    </tr>\n",
       "  </thead>\n",
       "  <tbody>\n",
       "    <tr>\n",
       "      <th>27</th>\n",
       "      <td>Nebraska</td>\n",
       "      <td>11.5</td>\n",
       "      <td>8.2</td>\n",
       "      <td>-3.3</td>\n",
       "      <td>62000</td>\n",
       "      <td>1100000</td>\n",
       "      <td>80213</td>\n",
       "      <td>72091</td>\n",
       "      <td>296</td>\n",
       "      <td>False</td>\n",
       "      <td>244600.0</td>\n",
       "      <td>242702</td>\n",
       "      <td>-1898.0</td>\n",
       "      <td>322796</td>\n",
       "      <td>NE</td>\n",
       "      <td>1745711</td>\n",
       "      <td>-0.011784</td>\n",
       "    </tr>\n",
       "    <tr>\n",
       "      <th>36</th>\n",
       "      <td>Oklahoma</td>\n",
       "      <td>18.9</td>\n",
       "      <td>13.9</td>\n",
       "      <td>-5.0</td>\n",
       "      <td>192000</td>\n",
       "      <td>1948000</td>\n",
       "      <td>130178</td>\n",
       "      <td>113209</td>\n",
       "      <td>298</td>\n",
       "      <td>False</td>\n",
       "      <td>790051.0</td>\n",
       "      <td>788544</td>\n",
       "      <td>-1507.0</td>\n",
       "      <td>693677</td>\n",
       "      <td>OK</td>\n",
       "      <td>3560399</td>\n",
       "      <td>-0.009357</td>\n",
       "    </tr>\n",
       "    <tr>\n",
       "      <th>50</th>\n",
       "      <td>Wyoming</td>\n",
       "      <td>14.9</td>\n",
       "      <td>11.5</td>\n",
       "      <td>-3.4</td>\n",
       "      <td>20000</td>\n",
       "      <td>335000</td>\n",
       "      <td>22076</td>\n",
       "      <td>20313</td>\n",
       "      <td>459</td>\n",
       "      <td>False</td>\n",
       "      <td>67518.0</td>\n",
       "      <td>63583</td>\n",
       "      <td>-3935.0</td>\n",
       "      <td>99128</td>\n",
       "      <td>WY</td>\n",
       "      <td>519787</td>\n",
       "      <td>-0.024432</td>\n",
       "    </tr>\n",
       "  </tbody>\n",
       "</table>\n",
       "</div>"
      ],
      "text/plain": [
       "       State  Uninsured Rate (2010)  Uninsured Rate (2015)  \\\n",
       "27  Nebraska                   11.5                    8.2   \n",
       "36  Oklahoma                   18.9                   13.9   \n",
       "50   Wyoming                   14.9                   11.5   \n",
       "\n",
       "    Uninsured Rate Change (2010-2015)  \\\n",
       "27                               -3.3   \n",
       "36                               -5.0   \n",
       "50                               -3.4   \n",
       "\n",
       "    Health Insurance Coverage Change (2010-2015)  \\\n",
       "27                                         62000   \n",
       "36                                        192000   \n",
       "50                                         20000   \n",
       "\n",
       "    Employer Health Insurance Coverage (2015)  \\\n",
       "27                                    1100000   \n",
       "36                                    1948000   \n",
       "50                                     335000   \n",
       "\n",
       "    Marketplace Health Insurance Coverage (2016)  \\\n",
       "27                                         80213   \n",
       "36                                        130178   \n",
       "50                                         22076   \n",
       "\n",
       "    Marketplace Tax Credits (2016)  Average Monthly Tax Credit (2016)  \\\n",
       "27                           72091                                296   \n",
       "36                          113209                                298   \n",
       "50                           20313                                459   \n",
       "\n",
       "   State Medicaid Expansion (2016)  Medicaid Enrollment (2013)  \\\n",
       "27                           False                    244600.0   \n",
       "36                           False                    790051.0   \n",
       "50                           False                     67518.0   \n",
       "\n",
       "    Medicaid Enrollment (2016)  Medicaid Enrollment Change (2013-2016)  \\\n",
       "27                      242702                                 -1898.0   \n",
       "36                      788544                                 -1507.0   \n",
       "50                       63583                                 -3935.0   \n",
       "\n",
       "    Medicare Enrollment (2016) code  insured_pop  medicaid_delta  \n",
       "27                      322796   NE      1745711       -0.011784  \n",
       "36                      693677   OK      3560399       -0.009357  \n",
       "50                       99128   WY       519787       -0.024432  "
      ]
     },
     "execution_count": 74,
     "metadata": {},
     "output_type": "execute_result"
    }
   ],
   "source": [
    "#These 3 states actually had a decrease in the number of enrollments in Medicaid.\n",
    "post_ACA[post_ACA['Medicaid Enrollment Change (2013-2016)'] < 0]"
   ]
  },
  {
   "cell_type": "markdown",
   "metadata": {},
   "source": [
    "## Fig6: Map showing Medicaid enrollment changes throughout the country"
   ]
  },
  {
   "cell_type": "code",
   "execution_count": 75,
   "metadata": {
    "collapsed": true
   },
   "outputs": [],
   "source": [
    "#Create a color scale\n",
    "#palette source: http://colrd.com/palette/19057/\n",
    "scl3 = [[0.0, 'rgb(255,255,217)'],[0.25, 'rgb(237,248,177)'],[.5, 'rgb(127,205,187)'], [1.0, 'rgb(12,44,132)']]"
   ]
  },
  {
   "cell_type": "code",
   "execution_count": 76,
   "metadata": {
    "collapsed": true
   },
   "outputs": [],
   "source": [
    "#Create text to show when hovering over map\n",
    "post_ACA['text'] = post_ACA['State'] + '<br>' +\\\n",
    "'Expanded Medicaid: ' + post_ACA['State Medicaid Expansion (2016)'].astype(str) + '<br>' +\\\n",
    "'Medicaid Enrollment in 2016: '+ post_ACA['Medicaid Enrollment (2016)'].apply(lambda x: '{:,.0f}'.format(x)) + '<br>'+\\\n",
    "'Enrollment Change from 2013: '+ post_ACA['Medicaid Enrollment Change (2013-2016)'].apply(lambda x: '{:,.0f}'.format(x))"
   ]
  },
  {
   "cell_type": "code",
   "execution_count": 77,
   "metadata": {},
   "outputs": [
    {
     "data": {
      "text/plain": [
       "'Alabama<br>Expanded Medicaid: False<br>Medicaid Enrollment in 2016: 910,775<br>Enrollment Change from 2013: 111,599'"
      ]
     },
     "execution_count": 77,
     "metadata": {},
     "output_type": "execute_result"
    }
   ],
   "source": [
    "#Check text string\n",
    "post_ACA['text'][0]"
   ]
  },
  {
   "cell_type": "code",
   "execution_count": 78,
   "metadata": {
    "collapsed": true
   },
   "outputs": [],
   "source": [
    "#Apply log to the color scale so that there is more contrast\n",
    "z = post_ACA.medicaid_delta.apply(lambda x: np.log(x))"
   ]
  },
  {
   "cell_type": "code",
   "execution_count": 79,
   "metadata": {},
   "outputs": [
    {
     "data": {
      "text/html": [
       "<iframe id=\"igraph\" scrolling=\"no\" style=\"border:none;\" seamless=\"seamless\" src=\"https://plot.ly/~prpca1999/130.embed\" height=\"525px\" width=\"100%\"></iframe>"
      ],
      "text/plain": [
       "<plotly.tools.PlotlyDisplay object>"
      ]
     },
     "execution_count": 79,
     "metadata": {},
     "output_type": "execute_result"
    }
   ],
   "source": [
    "#Create the choropleth using Plotly Python API.\n",
    "\n",
    "data = [dict(\n",
    "        type='choropleth',\n",
    "        colorscale = scl3,\n",
    "        autocolorscale = False,\n",
    "    showscale = False,\n",
    "        locations = post_ACA['code'],\n",
    "        z = z,\n",
    "        locationmode = 'USA-states',\n",
    "    hoverinfo = 'text',\n",
    "        text = post_ACA['text'],\n",
    "        marker = dict(\n",
    "            line = dict(\n",
    "                color = 'rgb(255,255,255)',\n",
    "                width = 1.5\n",
    "            )),\n",
    "        #colorbar = dict(\n",
    "        #    title = \"% of New Medicaid Enrollees from 2013\")\n",
    "        )]\n",
    "\n",
    "layout = dict(\n",
    "        title = 'Change in Medicaid Enrollment by State between 2013 and 2016<br>(hover for actual numbers)',\n",
    "        geo = dict(\n",
    "            scope='usa',\n",
    "            projection=dict(type='albers usa'),\n",
    "            showlakes = True,\n",
    "            lakecolor = 'rgb(255, 255, 255)'),\n",
    "             )\n",
    "    \n",
    "fig = dict(data=data, layout=layout)\n",
    "py.iplot(fig, filename='medicaid-cloropleth-USA')"
   ]
  },
  {
   "cell_type": "code",
   "execution_count": 81,
   "metadata": {
    "collapsed": true
   },
   "outputs": [],
   "source": [
    "#rgb(26,48,111)    rgb(194,212,248)    rgb(70,123,208)    rgb(116,193,245)   \n",
    "#http://colrd.com/palette/22453/ dark to light blues\n",
    " \n",
    "#rgb(43,67,79), rgb(99,130,112), rgb(188,201,142), rgb(237,224,89) gray to yellow\n",
    "#http://colrd.com/palette/21852/"
   ]
  },
  {
   "cell_type": "code",
   "execution_count": null,
   "metadata": {
    "collapsed": true
   },
   "outputs": [],
   "source": []
  }
 ],
 "metadata": {
  "kernelspec": {
   "display_name": "Python 2",
   "language": "python",
   "name": "python2"
  },
  "language_info": {
   "codemirror_mode": {
    "name": "ipython",
    "version": 2
   },
   "file_extension": ".py",
   "mimetype": "text/x-python",
   "name": "python",
   "nbconvert_exporter": "python",
   "pygments_lexer": "ipython2",
   "version": "2.7.13"
  }
 },
 "nbformat": 4,
 "nbformat_minor": 2
}
