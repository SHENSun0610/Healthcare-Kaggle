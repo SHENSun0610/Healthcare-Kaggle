{
 "cells": [
  {
   "cell_type": "raw",
   "metadata": {
    "slideshow": {
     "slide_type": "skip"
    }
   },
   "source": [
    "<script>\n",
    "  jQuery(document).ready(function($) {  \n",
    "  \n",
    "  $(window).on('load', function(){\n",
    "    $('#preloader').fadeOut('slow',function(){$(this).remove();});\n",
    "  });\n",
    "  \n",
    "  });\n",
    "</script>\n",
    "\n",
    "<style type=\"text/css\">\n",
    "  div#preloader { position: fixed; \n",
    "      left: 0; \n",
    "      top: 0; \n",
    "      z-index: 999; \n",
    "      width: 100%; \n",
    "      height: 100%; \n",
    "      overflow: visible; \n",
    "      background: #fff url('http://preloaders.net/preloaders/720/Moving%20line.gif') no-repeat center center; \n",
    "  }\n",
    "\n",
    "</style>\n",
    "\n",
    "<div id=\"preloader\">\n",
    "\n",
    "</div>"
   ]
  },
  {
   "cell_type": "raw",
   "metadata": {
    "slideshow": {
     "slide_type": "skip"
    }
   },
   "source": [
    "<script>\n",
    "  function code_toggle() {\n",
    "    if (code_shown){\n",
    "      $('div.input').hide('500');\n",
    "      $('#toggleButton').val('Show Code')\n",
    "    } else {\n",
    "      $('div.input').show('500');\n",
    "      $('#toggleButton').val('Hide Code')\n",
    "    }\n",
    "    code_shown = !code_shown\n",
    "  } \n",
    "  \n",
    "  $( document ).ready(function(){\n",
    "    code_shown=false; \n",
    "    $('div.input').hide()\n",
    "  });\n",
    "</script>\n",
    "<form action=\"javascript:code_toggle()\"><input type=\"submit\" id=\"toggleButton\" value=\"Show Code\"></form>"
   ]
  },
  {
   "cell_type": "raw",
   "metadata": {},
   "source": [
    "<style>\n",
    "body {\n",
    "    background-color: white;\n",
    "}\n",
    "\n",
    "h1 {\n",
    "    color: #710162;\n",
    "    text-align: center;\n",
    "}\n",
    "\n",
    "h2 {\n",
    "    color: #a12a5e;\n",
    "}\n",
    "\n",
    "h3 {\n",
    "    color: #ed0345;\n",
    "}\n",
    "\n",
    "p {\n",
    "    font-family: arial;\n",
    "    font-size: 18px;\n",
    "}\n",
    "</style>"
   ]
  },
  {
   "cell_type": "code",
   "execution_count": 23,
   "metadata": {
    "slideshow": {
     "slide_type": "skip"
    }
   },
   "outputs": [],
   "source": [
    "#Import relevant libraries\n",
    "%matplotlib inline\n",
    "%config InlineBackend.figure_format = 'retina' #nicer rendering of plots in retina displays\n",
    "\n",
    "import numpy as np\n",
    "import pandas as pd\n",
    "\n",
    "import matplotlib as mpl\n",
    "import matplotlib.pyplot as plt\n",
    "\n",
    "import plotly.plotly as py\n",
    "import plotly.graph_objs as go\n",
    "\n",
    "import seaborn as sns\n",
    "sns.set()\n",
    "pal = sns.hls_palette(10, h=.5)\n",
    "sns.set_palette(pal)\n",
    "\n",
    "import re"
   ]
  },
  {
   "cell_type": "markdown",
   "metadata": {
    "slideshow": {
     "slide_type": "slide"
    }
   },
   "source": [
    "<h1>Analyzing the Impact of the Affordable Care Act</h1>\n",
    "<br>\n",
    "   <br>\n",
    "</br>\n",
    "\n",
    "The **Affordable Care Act (ACA)** is the comprehensive health care reform law and its amendments addressing health insurance coverage, health care costs, and preventive care in the United States. In particular, the law established a Health Insurance Marketplace, and allowed all states to opt in to expand their Medicaid program.\n",
    "\n",
    "The law was enacted in two parts, namely The Patient Protection and Affordable Care Act which was signed on March 23, 2010 by President Barack Obama and amended by the Health Care and Education Reconciliation Act of March 30, 2010. A repeal of the ACA was recently passed by the Congress. \n",
    "\n",
    "This analysis aims to visualize metrics that **quantify the impact of the ACA** and expose some interesting findings."
   ]
  },
  {
   "cell_type": "markdown",
   "metadata": {},
   "source": [
    "<h2>The <em>Status Quo</em>: Insurance Coverage Before the ACA (1995-2010)</h2>\n",
    "\n",
    "According to the [source](https://www.kaggle.com/cdc/health-care-access-coverage) of this dataset, the information about health insurance coverage between 1995 to 2010 was compiled from the **US Department of Health and Human Services** and the **US Census Bureau**. More specifically, the data seems to have originated at least in part from the [American Community Survey](https://en.wikipedia.org/wiki/American_Community_Survey).\n",
    "\n",
    "The dataset contains a feature (a column) labeled \"Category\" with two distinct values: **Do you have any kind of health care coverage?** and **Adults aged 18-64 who have any kind of health care coverage**. Here we analyze the **former** because it's not limited by the age group. The summary statistics between both sets differ but only slightly, as expected.\n",
    "\n",
    "The **Figure 1** below shows the trend in the percentage of the surveyed population over the years who responded yes for having any kind of insurance coverage. The data represents the mean per US Census region for each year.\n",
    "\n",
    "Interestingly, the chart shows the Northeast and Midwest regions reporting coverage about 5% points higher than the West and South. However, this difference may be within the error range of the survey.\n",
    "\n",
    "In general, there is a small drop of about 2% points in the reported proportion of the population covered by health insurance along the period, with the exception of the US territories which show a much more pronounced change. There was a consistent and noticeable change point in the trend in 2001 for all regions. This may have been associated with macroenomic factors, such as the economic [recession](http://www.nber.org/cycles/cyclesmain.html) of 2001. However, a similar impact is not seen in the data for the deeper recession of 2008. It's also possible that the drop in 2001 may have been caused by a change in the survey methodology, for example.\n",
    "\n",
    "The national mean of insured population along the entire period was 86%. According to the US Census, the population in 2010 was about 303 million, which amounts to about **43 million people not covered by any type of health insurance**."
   ]
  },
  {
   "cell_type": "code",
   "execution_count": 2,
   "metadata": {
    "collapsed": true,
    "slideshow": {
     "slide_type": "skip"
    }
   },
   "outputs": [],
   "source": [
    "#Load the data downloaded from the referred link\n",
    "pre_ACA = pd.read_csv('Data/HC_access_1995-2010.csv')"
   ]
  },
  {
   "cell_type": "code",
   "execution_count": 3,
   "metadata": {
    "collapsed": true,
    "slideshow": {
     "slide_type": "skip"
    }
   },
   "outputs": [],
   "source": [
    "#Process data\n",
    "\n",
    "#Remove % from string values\n",
    "pre_ACA['Yes'] = pre_ACA.Yes.apply(lambda x: re.sub('%', '', x))\n",
    "pre_ACA['No'] = pre_ACA.No.apply(lambda x: re.sub('%', '', x))\n",
    "\n",
    "\n",
    "#Get geolocation\n",
    "pre_ACA['geolocation'] = pre_ACA['Location 1'].apply(lambda x: x.split('\\n')[1].split(','))\n",
    "\n",
    "\n",
    "#Get latitude from geolocation\n",
    "pre_ACA['lat'] = pre_ACA.geolocation.apply(lambda x: re.sub('\\(', '', x[0]))\n",
    "\n",
    "\n",
    "#Get longitude from geolocation\n",
    "def get_long(x):\n",
    "    return re.sub('\\)|\\s', '', x[1]) if len(x)>1 else ''\n",
    "\n",
    "pre_ACA['long'] = pre_ACA.geolocation.apply(lambda x: get_long(x))\n",
    "\n",
    "\n",
    "#Convert string datatypes to numeric\n",
    "for col in ['Yes', 'No', 'lat', 'long']:\n",
    "    pre_ACA[col] = pd.to_numeric(pre_ACA[col])\n",
    "\n",
    "\n",
    "#Drop redundant columns\n",
    "pre_ACA = pre_ACA.drop('geolocation', axis=1)\n",
    "pre_ACA = pre_ACA.drop('Location 1', axis=1)\n",
    "\n",
    "\n",
    "#Check stats for comparison.\n",
    "#pre_ACA[pre_ACA.Condition == 'Do you have any kind of health care coverage?'][['Yes', 'No']].describe()\n",
    "#pre_ACA[pre_ACA.Condition != 'Do you have any kind of health care coverage?'][['Yes', 'No']].describe()"
   ]
  },
  {
   "cell_type": "code",
   "execution_count": 4,
   "metadata": {
    "collapsed": true,
    "slideshow": {
     "slide_type": "skip"
    }
   },
   "outputs": [],
   "source": [
    "#Select a subset of the data\n",
    "subset = pre_ACA[(pre_ACA.State.str.contains('Nationwide') == False)\\\n",
    "        & (pre_ACA.Condition == 'Do you have any kind of health care coverage?')] #844 rows\n",
    "\n",
    "\n",
    "#Drop redundant columns\n",
    "subset = subset.drop('Category', axis=1)\n",
    "subset = subset.drop('Condition', axis=1)\n",
    "\n",
    "\n",
    "#Load file with state codes\n",
    "state_codes = pd.read_csv('Data/state_codes.csv')\n",
    "state_codes = state_codes[['code','state']]\n",
    "state_codes.columns = ['code', 'State']\n",
    "\n",
    "\n",
    "#Merge state code into dataset\n",
    "subset= subset.merge(state_codes, how='left', on='State')"
   ]
  },
  {
   "cell_type": "code",
   "execution_count": 5,
   "metadata": {
    "collapsed": true,
    "slideshow": {
     "slide_type": "skip"
    }
   },
   "outputs": [],
   "source": [
    "#Define lists with US Census regions\n",
    "\n",
    "Northeast = ['Connecticut', 'Maine', 'Massachusetts', 'New Hampshire', 'Rhode Island', 'Vermont', 'Delaware', \n",
    "             'New Jersey', 'New York', 'Pennsylvania']\n",
    "\n",
    "Midwest = ['Illinois', 'Indiana', 'Michigan', 'Ohio', 'Wisconsin', 'Iowa', 'Kansas', 'Minnesota', 'Missouri', \n",
    "           'Nebraska', 'North Dakota', 'South Dakota']\n",
    "\n",
    "South = ['Florida', 'Georgia', 'Maryland', 'North Carolina', 'South Carolina', 'Virginia', 'District of Columbia',\n",
    "         'West Virginia', 'Alabama', 'Kentucky', 'Mississippi', 'Tennessee', 'Arkansas', 'Louisiana', \n",
    "         'Oklahoma', 'Texas']\n",
    "\n",
    "West = ['Arizona', 'Colorado', 'Idaho', 'Montana', 'Nevada', 'New Mexico', 'Utah', 'Wyoming', 'Alaska', \n",
    "        'California', 'Hawaii', 'Oregon', 'Washington']\n",
    "\n",
    "Territories = ['Puerto Rico', 'Guam', 'Virgin Islands']\n",
    "\n",
    "\n",
    "#Create series with grouped data per region\n",
    "northeast = subset[subset.State.isin(Northeast)].groupby(['Year']).Yes.mean()\n",
    "midwest = subset[subset.State.isin(Midwest)].groupby(['Year']).Yes.mean()\n",
    "south = subset[subset.State.isin(South)].groupby(['Year']).Yes.mean()\n",
    "west = subset[subset.State.isin(West)].groupby(['Year']).Yes.mean()\n",
    "territories = subset[subset.State.isin(Territories)].groupby(['Year']).Yes.mean()"
   ]
  },
  {
   "cell_type": "code",
   "execution_count": 6,
   "metadata": {
    "slideshow": {
     "slide_type": "subslide"
    }
   },
   "outputs": [
    {
     "data": {
      "image/png": "[encoded data removed]",
      "text/plain": [
       "<matplotlib.figure.Figure at 0x10f48b1d0>"
      ]
     },
     "metadata": {
      "image/png": {
       "height": 378,
       "width": 947
      }
     },
     "output_type": "display_data"
    }
   ],
   "source": [
    "#Create plot with percentage of people who have answered to have some form of insurance (mean per US census region)\n",
    "\n",
    "fig, ax = plt.subplots(1,1, figsize=(16, 6))\n",
    "\n",
    "northeast.plot(label='Northeast', marker='o')\n",
    "midwest.plot(label='Midwest', marker='D')\n",
    "south.plot(label='South', marker='o')\n",
    "west.plot(label='West', marker='D')\n",
    "territories.plot(label='Territories', marker='s')\n",
    "\n",
    "ax.set_facecolor('#F9F9F9')\n",
    "ax.grid(color='#E4E4E4', linestyle='dotted', linewidth=1, axis ='y')\n",
    "\n",
    "plt.ylim(75, 100)\n",
    "plt.title('Figure 1: Average Percentage of Insured People per Census Region (before ACA)', fontsize=18, color='#232323')\n",
    "plt.xlabel('')\n",
    "plt.tick_params(labelsize=12)\n",
    "plt.legend(loc='upper right');"
   ]
  },
  {
   "cell_type": "markdown",
   "metadata": {
    "slideshow": {
     "slide_type": "skip"
    }
   },
   "source": [
    "<h2>The Insurance Landscape in the Years After the ACA (2010-2015)</h2>\n",
    "\n",
    "The dataset about health insurance coverage from 2010 is not continuous but it contains more detailed features related to estimates of the uninsured population and a breakdown by source of coverage for each state. Details on the source of the data can be found [here](https://www.kaggle.com/hhs/health-insurance).\n",
    "\n",
    "Let's take a closer look at the uninsured population data, then at the sources of insurance coverage, and finally dive into Medicare and Medicaid data."
   ]
  },
  {
   "cell_type": "code",
   "execution_count": 7,
   "metadata": {
    "collapsed": true,
    "slideshow": {
     "slide_type": "skip"
    }
   },
   "outputs": [],
   "source": [
    "#Load the data downloaded from the referred link\n",
    "post_ACA = pd.read_csv('Data/HC_access_afterACA.csv')"
   ]
  },
  {
   "cell_type": "code",
   "execution_count": 8,
   "metadata": {
    "collapsed": true,
    "slideshow": {
     "slide_type": "skip"
    }
   },
   "outputs": [],
   "source": [
    "#Process the data\n",
    "\n",
    "#Remove % from string values\n",
    "cols = ['Uninsured Rate (2010)', 'Uninsured Rate (2015)','Uninsured Rate Change (2010-2015)'] #% values\n",
    "for col in cols:\n",
    "    post_ACA[col] = post_ACA[col].apply(lambda x: re.sub('%', '', x))\n",
    "\n",
    "\n",
    "#Remove $ from string values\n",
    "post_ACA['Average Monthly Tax Credit (2016)'] = \\\n",
    "post_ACA['Average Monthly Tax Credit (2016)'].apply(lambda x: x[1:-1])\n",
    "\n",
    "\n",
    "#Convert string datatypes to numeric\n",
    "for col in cols:\n",
    "    post_ACA[col] = pd.to_numeric(post_ACA[col])\n",
    "    \n",
    "post_ACA['Average Monthly Tax Credit (2016)'] = pd.to_numeric(post_ACA['Average Monthly Tax Credit (2016)'])\n",
    "\n",
    "\n",
    "#Remove trailing whitespace from state names\n",
    "post_ACA.State = post_ACA.State.apply(lambda x: x.rstrip())\n",
    "\n",
    "\n",
    "#Merge state code into dataset\n",
    "post_ACA = post_ACA.merge(state_codes, how='left', on='State')\n",
    "\n",
    "\n",
    "#Create column with the total insured population per state. Assign code for United States.\n",
    "post_ACA.loc[51:,('code')] = 'US'\n",
    "post_ACA['insured_pop'] = post_ACA.iloc[:,(5,6,11,13)].sum(axis=1)\n",
    "\n",
    "\n",
    "#Calculate the proportion of enrollment change per state between 2013 and 2016 from the country's \n",
    "#total new enrollments for the period.\n",
    "post_ACA['medicaid_delta'] = (post_ACA['Medicaid Enrollment Change (2013-2016)']/\\\n",
    "post_ACA['Medicaid Enrollment Change (2013-2016)'][51]) *100\n",
    "\n",
    "\n",
    "#post_ACA.head()"
   ]
  },
  {
   "cell_type": "code",
   "execution_count": 9,
   "metadata": {
    "collapsed": true,
    "slideshow": {
     "slide_type": "skip"
    }
   },
   "outputs": [],
   "source": [
    "#EXPLORING DATA ABOUT THE UNINSURED POPULATION\n",
    "\n",
    "#States with the largest proportion of uninsured population before ACA (2010)\n",
    "#post_ACA.ix[:,:4].sort_values(by='Uninsured Rate (2010)', ascending = False)[:19]\n",
    "\n",
    "#Texas still has the highest rate of uninsured population in the country\n",
    "#post_ACA['Uninsured Rate (2015)'].max() #17%\n",
    "\n",
    "#All states have shown a drop in uninsured population. Massachusetts had the lowest change in the country...\n",
    "#and also the lowest rate of uninsured population before and after ACA. Will California follow with SB 562?\n",
    "#post_ACA[post_ACA['Uninsured Rate (2015)'] < 3]\n",
    "\n",
    "#States with the largest decreases in uninsured population after ACA (2015)\n",
    "uninsured_rate = post_ACA.ix[:,[1,2,3,-3]].sort_values(by='Uninsured Rate Change (2010-2015)', ascending = True)[:17]\n",
    "#uninsured_rate"
   ]
  },
  {
   "cell_type": "markdown",
   "metadata": {
    "slideshow": {
     "slide_type": "slide"
    }
   },
   "source": [
    "<h3>The Effect of the ACA in the Proportion of Uninsured Population</h3>\n",
    "\n",
    "The mean uninsured population rate in the United States in 2010, according to this data source, **was 15.5%**. This is within the range of the number from the previous dataset (about 15% for 2010). This number is reoprted to have dropped to **9.4% in 2015**.\n",
    "\n",
    "In addition, the data shows:\n",
    "<br>\n",
    "</br>\n",
    "<li style=\"font-family: arial; font-size: 18px;\" markdown=\"1\"><strong>16 million</strong> more people insured by Medicaid between 2013 and 2016</li>\n",
    "<li style=\"font-family: arial; font-size: 18px;\" markdown=\"1\"><strong>11 million</strong> people insured by the Healthcare Marketplace in 2016</li>\n",
    "<li style=\"font-family: arial; font-size: 18px;\" markdown=\"1\">an increment of <strong>19 million</strong> in insured individuals between 2010 and 2015.\n",
    "</li>\n",
    "\n",
    "Most of the increase in the insured population was **driven by the expansion of Medicaid and the Marketplace** rather than Employer and Medicare, which will be shown later in this analysis.\n",
    "\n",
    "The **top 5 states with the highest percentage of uninsured population in 2010** (before the ACA), were Texas, Nevada, Florida, Arkansas and Georgia. Except for Nevada, all these states remain among the top 5 in terms of uninsured population, albeit at lower levels. Leading the list, **Texas** had 23.7% uninsured individuals in 2010, and it still had the **highest** uninsured rate in 2015 (17.1%).\n",
    "\n",
    "**All states have seen a drop in the uninsured rate** after the implementation of the ACA. **Massachusetts** had the **lowest** drop in the uninsured rate (-1.6% points) because the state already had he lowest rate (only 4.4%) before the new law. Could California, still with 8.6% uninsured population in 2015 follow if [SB562](https://leginfo.legislature.ca.gov/faces/billNavClient.xhtml?bill_id=201720180SB562) is approved?\n",
    "\n",
    "The **Figure 2** below interactively displays information about the states that have seen a decrease in uninsured population at or above the **national average of 6.1%** between 2010 and 2015. \n",
    "\n",
    "The political representation of the states shown in the plot is approximately even between the typically \"red\" and \"blue + swing\" groups. Except for **Texas, Idaho and South Carolina**, all the other states have opted to expand their Medicaid programs. Therefore, the drop in uninsured rates for these 3 states was driven mostly by people signing up into the Health Insurance Marketplace. This is demonstrated in the next session, where we analyze health insurance by source of coverage."
   ]
  },
  {
   "cell_type": "code",
   "execution_count": 10,
   "metadata": {
    "slideshow": {
     "slide_type": "subslide"
    }
   },
   "outputs": [
    {
     "data": {
      "text/html": [
       "<iframe id=\"igraph\" scrolling=\"no\" style=\"border:none;\" seamless=\"seamless\" src=\"https://plot.ly/~prpca1999/132.embed\" height=\"525px\" width=\"100%\"></iframe>"
      ],
      "text/plain": [
       "<plotly.tools.PlotlyDisplay object>"
      ]
     },
     "execution_count": 10,
     "metadata": {},
     "output_type": "execute_result"
    }
   ],
   "source": [
    "#Equivalent interactive version\n",
    "#(0,120,171) - big sky blue; (64, 224, 208) - turquoise blue\n",
    "\n",
    "trace2010 = go.Bar(\n",
    "    x=uninsured_rate['code'],\n",
    "    y=uninsured_rate['Uninsured Rate (2010)'],\n",
    "    name='2010 - Uninsured Rate',\n",
    "    marker=dict(\n",
    "        color='rgb(64, 224, 208)'\n",
    "    )\n",
    ")\n",
    "trace2015 = go.Bar(\n",
    "    x=uninsured_rate['code'],\n",
    "    y=uninsured_rate['Uninsured Rate (2015)'],\n",
    "    name='2015 - Uninsured Rate',\n",
    "    marker=dict(\n",
    "        color='rgb(0, 120, 171)'\n",
    "    )\n",
    ")\n",
    "data = [trace2010, trace2015]\n",
    "layout = go.Layout(\n",
    "    title='Figure 2: States Showing the Largest Changes in Uninsured Population',\n",
    "    xaxis=dict(\n",
    "        tickfont=dict(\n",
    "            size=14,\n",
    "            color='rgb(107, 107, 107)'\n",
    "        )\n",
    "    ),\n",
    "    yaxis=dict(\n",
    "        title='Uninsured Population (%)',\n",
    "        titlefont=dict(\n",
    "            size=16,\n",
    "            color='rgb(107, 107, 107)'\n",
    "        ),\n",
    "        tickfont=dict(\n",
    "            size=14,\n",
    "            color='rgb(107, 107, 107)'\n",
    "        )\n",
    "    ),\n",
    "    legend=dict(\n",
    "        bgcolor='rgba(255, 255, 255, 0)',\n",
    "        bordercolor='rgba(255, 255, 255, 0)'\n",
    "    ),\n",
    "    barmode='group',\n",
    "    bargap=0.15,\n",
    "    bargroupgap=0.1\n",
    ")\n",
    "\n",
    "fig = go.Figure(data=data, layout=layout)\n",
    "py.iplot(fig, filename='uninsured-pop-drop')"
   ]
  },
  {
   "cell_type": "code",
   "execution_count": 11,
   "metadata": {
    "collapsed": true
   },
   "outputs": [],
   "source": [
    "#EXPLORING DATA ABOUT SOURCES OF INSURANCE\n",
    "\n",
    "#List dataset columns with insured population breakdown by source of insurance\n",
    "cols = [u'code', u'Employer Health Insurance Coverage (2015)',\n",
    "       u'Marketplace Health Insurance Coverage (2016)',\n",
    "       u'Medicaid Enrollment (2016)', u'Medicare Enrollment (2016)',\n",
    "       u'insured_pop']\n",
    "\n",
    "#Select data with enrollment per source of insurance. \n",
    "insurance_type = post_ACA.ix[:,(cols)]\n",
    "\n",
    "#Calculate total insured population and share of government coverage for each state.\n",
    "insurance_type['single_payer'] = insurance_type.ix[:,(3,4)].sum(1)/insurance_type.ix[:,('insured_pop')]\n",
    "insurance_type['market'] = 1- insurance_type.single_payer\n",
    "\n",
    "#Breakdown for each source of insurance.\n",
    "insurance_type['prop_employer'] = \\\n",
    "insurance_type['Employer Health Insurance Coverage (2015)']/insurance_type.insured_pop\n",
    "\n",
    "insurance_type['prop_marketplace'] = \\\n",
    "insurance_type['Marketplace Health Insurance Coverage (2016)']/insurance_type.insured_pop\n",
    "\n",
    "insurance_type['prop_medicaid'] = insurance_type['Medicaid Enrollment (2016)']/insurance_type.insured_pop\n",
    "insurance_type['prop_medicare'] = insurance_type['Medicare Enrollment (2016)']/insurance_type.insured_pop\n",
    "\n",
    "\n",
    "#insurance_type.tail()\n",
    "\n",
    "#Print stats for US:\n",
    "#insurance_type.iloc[:-1].single_payer.describe() #mean = ~ 41%\n",
    "\n",
    "#States where the government already covers more than 50% of the insured population\n",
    "#insurance_type[insurance_type.single_payer >= 0.50] #NM AND AR\n",
    "\n",
    "#State where the government represents the lowest propertion of insurance source\n",
    "#insurance_type[insurance_type.single_payer < 0.25] #UT"
   ]
  },
  {
   "cell_type": "markdown",
   "metadata": {
    "slideshow": {
     "slide_type": "slide"
    }
   },
   "source": [
    "<h3>The State of Health Insurance by Source of Coverage in 2016</h3>\n",
    "\n",
    "By the end of 2016, there were 4 main **sources of insurance coverage:**\n",
    "<br>\n",
    "</br>\n",
    "<li style=\"font-family: arial; font-size: 18px;\" markdown=\"1\"><strong>Employer:</strong> health insurance provided through employment and paid mostly by the employer</li>\n",
    "<li style=\"font-family: arial; font-size: 18px;\" markdown=\"1\"><strong>Medicare:</strong> health insurance provided by the government, mainly for individuals aged 65 or older</li>\n",
    "<li style=\"font-family: arial; font-size: 18px;\" markdown=\"1\"><strong>Medicaid:</strong> health insurance provided by the government for very low income individuals</li>\n",
    "<li style=\"font-family: arial; font-size: 18px;\" markdown=\"1\"><strong>Marketplace:</strong> health insurance provided through the marketplace paid by the insured individual</li>\n",
    "\n",
    "While not all numbers before 2016 are available in the dataset, the **baseline** (national average) for the breakdown of health insurance by source is:\n",
    "<br>\n",
    "</br>\n",
    "<li style=\"font-family: arial; font-size: 18px;\" markdown=\"1\">Employer: 55%</li>\n",
    "<li style=\"font-family: arial; font-size: 18px;\" markdown=\"1\">Medicaid: 23.5%</li>\n",
    "<li style=\"font-family: arial; font-size: 18px;\" markdown=\"1\">Medicare: 18%</li>\n",
    "<li style=\"font-family: arial; font-size: 18px;\" markdown=\"1\">Marketplace: 3.5%</li>\n",
    "\n",
    "The baseline indicates that **the government already covers about 41% of all insured individuals in 2016**. The bubble chart in the **Figure 3** below shows the percentage of insured individuals covered by government-provided (single payer) health insurance in each state.\n",
    "\n",
    "Most states hover around the baseline, but there 3 interesting <em>\"anomalies\"</em>:\n",
    "<br>\n",
    "</br>\n",
    "<li style=\"font-family: arial; font-size: 18px;\" markdown=\"1\"><strong>New Mexico and Arkansas</strong> have more than <strong>50%</strong> of insured individuals covered by Medicare or Medicaid</li>\n",
    "<li style=\"font-family: arial; font-size: 18px;\" markdown=\"1\"><strong>Utah</strong> has only about <strong>25%</strong> of insured individuals covered by Medicare or Medicaid</li>"
   ]
  },
  {
   "cell_type": "code",
   "execution_count": 12,
   "metadata": {
    "slideshow": {
     "slide_type": "skip"
    }
   },
   "outputs": [],
   "source": [
    "#Scale size of insured population to be used as bubble dimension\n",
    "\n",
    "#color= ['hsl('+str(h)+',50%'+',50%)' for h in np.linspace(0, 360, N)]\n",
    "size = insurance_type.iloc[:-1, :].insured_pop/500000. #disregard last row which is data for the US\n",
    "#size.min(), size.max()"
   ]
  },
  {
   "cell_type": "code",
   "execution_count": 13,
   "metadata": {
    "slideshow": {
     "slide_type": "subslide"
    }
   },
   "outputs": [
    {
     "data": {
      "text/html": [
       "<iframe id=\"igraph\" scrolling=\"no\" style=\"border:none;\" seamless=\"seamless\" src=\"https://plot.ly/~prpca1999/126.embed\" height=\"525px\" width=\"100%\"></iframe>"
      ],
      "text/plain": [
       "<plotly.tools.PlotlyDisplay object>"
      ]
     },
     "execution_count": 13,
     "metadata": {},
     "output_type": "execute_result"
    }
   ],
   "source": [
    "#Bubble chart: proportion of single payer per state (similar to Fig3a but showing all states). Nationwide mean: 41%\n",
    "#The bubble size is proportional to the total insured population in each state.\n",
    "\n",
    "trace = go.Scatter (x = insurance_type.iloc[:-1, :].code, \n",
    "                    y = insurance_type.iloc[:-1, :].single_payer,\n",
    "                    text = 'Proportion of Medicare + Medicaid',\n",
    "                    marker = dict(size = size, \n",
    "                                  color=range(len(insurance_type)-1), \n",
    "                                  opacity= 0.7, \n",
    "                                  colorscale='Viridis'), \n",
    "                    mode = 'markers')\n",
    "\n",
    "\n",
    "layout = dict(\n",
    "    title = 'Figure 3: Proportion of Insured Population Covered by the Government<br>(bubble size is proportional to population)',\n",
    "    xaxis=dict(tickangle=-90)\n",
    ")\n",
    "\n",
    "\n",
    "data=[trace]\n",
    "fig = dict(data=data, layout=layout)\n",
    "py.iplot(fig, filename='proportion-single-payer')"
   ]
  },
  {
   "cell_type": "markdown",
   "metadata": {},
   "source": [
    "The **Figure 4** below goes more in detail and shows the breakdown by source of coverage for the **top 10 states** in terms of total number of insured individuals. There are some noteworthy **pattterns**:\n",
    "<br>\n",
    "</br>\n",
    "<li style=\"font-family: arial; font-size: 18px;\" markdown=\"1\"><strong>Texas, Georgia and Illinois</strong> have above average insurance coverage rates provided by <strong>Employers</strong></li>\n",
    "<li style=\"font-family: arial; font-size: 18px;\" markdown=\"1\"><strong>Texas, Florida, North Carolina and Georgia</strong> have above average rates of insurance coverage provided by the <strong>Marketplace</strong></li>\n",
    "<li style=\"font-family: arial; font-size: 18px;\" markdown=\"1\"><strong>California, New York</strong> and to a lesser extent <strong>Ohio</strong> have above average insurance coverage rates provided by <strong>Medicaid</strong></li>\n",
    "<li style=\"font-family: arial; font-size: 18px;\" markdown=\"1\"><strong>Florida</strong>, unsurprisingly, has well above average rate of insurance coverage rates provided by <strong>Medicare</strong></li>"
   ]
  },
  {
   "cell_type": "code",
   "execution_count": 14,
   "metadata": {
    "collapsed": true
   },
   "outputs": [],
   "source": [
    "#Select top 10 states by insured population\n",
    "top10_pop = insurance_type.sort_values(by='insured_pop', ascending=False).head(11)\n",
    "#top10_pop\n",
    "top10 = ['CA', 'TX', 'NY', 'FL', 'PA', 'IL', 'OH', 'MI', 'NC', 'GA'] #top 10 states labels"
   ]
  },
  {
   "cell_type": "code",
   "execution_count": 15,
   "metadata": {},
   "outputs": [
    {
     "data": {
      "text/html": [
       "<iframe id=\"igraph\" scrolling=\"no\" style=\"border:none;\" seamless=\"seamless\" src=\"https://plot.ly/~prpca1999/134.embed\" height=\"525px\" width=\"100%\"></iframe>"
      ],
      "text/plain": [
       "<plotly.tools.PlotlyDisplay object>"
      ]
     },
     "execution_count": 15,
     "metadata": {},
     "output_type": "execute_result"
    }
   ],
   "source": [
    "#Create plot. Note: there is a daily limit to the number of Plotly's API calls. An error will be raised beyond limit.\n",
    "#Color palette source: http://colrd.com/palette/27656/ \n",
    "#Baseline: #55% employer, 23.5% medicaid, 3.5% marketplace, 18% medicare\n",
    "\n",
    "data = [\n",
    "    go.Bar(\n",
    "        x=top10,\n",
    "        y=top10_pop.iloc[1:,1],\n",
    "        name = 'Employer',\n",
    "        text = top10_pop.prop_employer.iloc[1:].apply(lambda x: '{:,.0f}'.format(x*100)) + '%',\n",
    "        marker=dict(\n",
    "        color='rgb(161,173,167)'\n",
    "        ),\n",
    "    ),\n",
    "    go.Bar(\n",
    "        x=top10,\n",
    "        y=top10_pop.iloc[1:,3],\n",
    "        name = 'Medicaid',\n",
    "        text = top10_pop.prop_medicaid.iloc[1:].apply(lambda x: '{:,.0f}'.format(x*100)) + '%',\n",
    "        marker=dict(\n",
    "        color='rgb(62,152,195)'\n",
    "        ),\n",
    "    ),\n",
    "    go.Bar(\n",
    "        x=top10,\n",
    "        y=top10_pop.iloc[1:,4],\n",
    "        name = 'Medicare',\n",
    "        text = top10_pop.prop_medicare.iloc[1:].apply(lambda x: '{:,.0f}'.format(x*100)) + '%',\n",
    "        marker=dict(\n",
    "        color='rgb(13,96,136)'\n",
    "        ),\n",
    "    ),\n",
    "    go.Bar(\n",
    "        x=top10,\n",
    "        y=top10_pop.iloc[1:,2],\n",
    "        name = 'Marketplace',\n",
    "        text = top10_pop.prop_marketplace.iloc[1:].apply(lambda x: '{:,.1f}'.format(x*100)) + '%',\n",
    "        marker=dict(\n",
    "        color='rgb(108,195,9)'\n",
    "        ),\n",
    "    )\n",
    "\n",
    "]\n",
    "\n",
    "layout = go.Layout(\n",
    "    barmode='stack',\n",
    "    title='Figure 4: Source of Coverage Breakdown for the Top 10 States by Insured Population'\n",
    ")\n",
    "\n",
    "fig = go.Figure(data=data, layout=layout)\n",
    "py.iplot(fig, filename='insurance-source-breakdown')"
   ]
  },
  {
   "cell_type": "code",
   "execution_count": 17,
   "metadata": {},
   "outputs": [],
   "source": [
    "#EXPLORING DATA ABOUT MEDICARE\n",
    "\n",
    "#Select Medicare data\n",
    "medicare = insurance_type[['code', 'Medicare Enrollment (2016)', 'insured_pop']]\\\n",
    ".sort_values(by='Medicare Enrollment (2016)', ascending=False).iloc[1:,:]\n",
    "\n",
    "\n",
    "#Get top 10 states by number of Medicare enrollees\n",
    "medicare_top10 = medicare.head(10).copy()\n",
    "\n",
    "\n",
    "#Estimated total population 65 years or older per state in 2015 (source: US Census website)\n",
    "pop_65 = pd.Series([5188754, 3942468, 3225168, 2964315, 2179788, 1842952, 1830277, 1570671, 1516824, 1304924], \n",
    "                  index= medicare_top10.index)\n",
    "\n",
    "\n",
    "#Load total population for top 10 states (source: US Census website, downloaded as pop_65+_perState.csv)\n",
    "popTop10 = pd.read_csv('Data/pop_2016.csv')\n",
    "popTop10.index = medicare_top10.index\n",
    "#popTop10.head()\n",
    "\n",
    "\n",
    "#Add columns with % of insured population covered by Medicare, population 65 and over, and total population.\n",
    "medicare_top10.loc[:,'total_pop'] = popTop10.pop_2016\n",
    "medicare_top10.loc[:,'pop_over_65'] = pop_65\n",
    "medicare_top10['%Medicare'] = 100*medicare_top10['Medicare Enrollment (2016)']/medicare_top10.total_pop\n",
    "medicare_top10.loc[:,'perc_over_65'] = 100*medicare_top10.pop_over_65/medicare_top10.total_pop\n",
    "\n",
    "\n",
    "#The top 10 states represent 51% of all Medicare enrollees\n",
    "US_medicare_total = insurance_type['Medicare Enrollment (2016)'][51]\n",
    "#medicare_top10['Medicare Enrollment (2016)'].sum()*1./US_medicare_total\n",
    "\n",
    "\n",
    "#States with the largest numbers of individuals insured by Medicare are also the states with the largest \n",
    "#population aged 65 or older. The top 10 states represent 51% of all Medicare enrollees.\n",
    "#medicare_top10"
   ]
  },
  {
   "cell_type": "markdown",
   "metadata": {},
   "source": [
    "Let's now look at the **Medicare** numbers. As expected, the **top 10 Medicare markets** by the number of enrollees in 2016 are in the states with the **largest populations** in the country, although the percentage of individuals aged 65 or older varies from 11.6% (Texas) to 19.1% (Florida) in this group, according to data from the US Census.\n",
    "\n",
    "The **Figure 5** below provides an interactive illustration of the number of Medicare customers in each of the selected states. Together, **the top 10 states represented 51% of all Medicare enrollees in 2016**. The proportion of the population on Medicare exceeds that of the population aged 65 or older (some people are eligible to receive the benefit earlier), indicating that pretty much everybody in this age group takes advantage of the benefit. The marketplace insurance premium cost for this age group can be at least [3 times](https://www.cms.gov/cciio/resources/data-resources/marketplace-puf.html) that of a 21 years old individual."
   ]
  },
  {
   "cell_type": "code",
   "execution_count": 18,
   "metadata": {
    "collapsed": true
   },
   "outputs": [],
   "source": [
    "#Create text to show when hovering over map\n",
    "medicare_top10['text'] = medicare_top10['code'] + '<br>' +\\\n",
    "'Total Population over 65: ' + medicare_top10['perc_over_65'].apply(lambda x: '{:,.1f}'.format(x)) + '%'+'<br>' +\\\n",
    "'Total Population on Medicare: '+ medicare_top10['%Medicare'].apply(lambda x: '{:,.1f}'.format(x)) + '%'"
   ]
  },
  {
   "cell_type": "code",
   "execution_count": 19,
   "metadata": {},
   "outputs": [
    {
     "data": {
      "text/html": [
       "<iframe id=\"igraph\" scrolling=\"no\" style=\"border:none;\" seamless=\"seamless\" src=\"https://plot.ly/~prpca1999/122.embed\" height=\"525px\" width=\"100%\"></iframe>"
      ],
      "text/plain": [
       "<plotly.tools.PlotlyDisplay object>"
      ]
     },
     "execution_count": 19,
     "metadata": {},
     "output_type": "execute_result"
    }
   ],
   "source": [
    "#Visualize Top 10 Medicare markets (by number of enrollees), by number of population 65 years or older.\n",
    "\n",
    "trace0 = go.Bar(\n",
    "    x=medicare_top10.code,\n",
    "    y=medicare_top10['Medicare Enrollment (2016)'],\n",
    "    text=medicare_top10['text'],\n",
    "    marker=dict(\n",
    "        color=range(len(medicare_top10.code)),\n",
    "        colorscale='Viridis'\n",
    "    ),\n",
    "    opacity=0.7\n",
    ")\n",
    "\n",
    "data = [trace0]\n",
    "layout = go.Layout(\n",
    "    title='Figure 5: Top 10 Medicare Markets by Number of Enrollees (2016)',\n",
    ")\n",
    "\n",
    "fig = go.Figure(data=data, layout=layout)\n",
    "py.iplot(fig, filename='top10-medicare-markets')"
   ]
  },
  {
   "cell_type": "code",
   "execution_count": 20,
   "metadata": {},
   "outputs": [],
   "source": [
    "#EXPLORING DATA ABOUT MEDICAID\n",
    "\n",
    "#Check states with the largest proportion (> 2.5%) of additional Medicaid enrollees between 2013 and 2016.\n",
    "#post_ACA[post_ACA['medicaid_delta'] >2.5][['medicaid_delta', 'code', 'State Medicaid Expansion (2016)']].\\\n",
    "#sort_values(by='medicaid_delta', ascending=False)[1:]\n",
    "\n",
    "#These 3 states actually had a decrease in the number of enrollments in Medicaid.\n",
    "#post_ACA[post_ACA['Medicaid Enrollment Change (2013-2016)'] < 0] #WY, OK, NE"
   ]
  },
  {
   "cell_type": "markdown",
   "metadata": {},
   "source": [
    "Finally, let's take a closer look at **changes in Medicaid enrollment between 2013 and 2016**. The colors in the interactive map below, **Figure 6**, vary from light yellow to dark blue as the proportion of increase in Medicaid enrollment grows in relation to the nation total. The dark grey colors represent either negative growth (decrease in number of enrollees), or no data available for comparison (which was the case for Maine and Connecticut). By hovering over the map, it's also possible to check whether a state has opted to expand Medicaid.\n",
    "\n",
    "On the map, **California stands out** because it rpresents the largest proportion of additional Medicaid enrollees between 2013 and 2016: **for every 4 new enrollees, 1 was from California**. This is expected in part because it's also the most populous state. **New York, Washington, Ohio, Kentucky and Colorado follow with the largest proportions of new enrollees** after California. In Washington, Kentucky and Colorado, most of the drop in uninsured population rate was driven by the Medicaid expansion, which offers coverage to adults whose income fall below 133% the [Federal Poverty Level](https://www.medicaid.gov/affordable-care-act/eligibility/index.html).\n",
    "\n",
    "Three states have actually shown a **decrease in number of Medicaid recipients: Wyoming, Nebraska and Oklahoma**. The health insurance source breakdown for Oklahoma is similar to the national average, whereas in Wyoming and Nebraska, employers and the marketplace make up for the lower Medicaid rates."
   ]
  },
  {
   "cell_type": "code",
   "execution_count": 21,
   "metadata": {
    "collapsed": true
   },
   "outputs": [],
   "source": [
    "#Create a color scale\n",
    "#palette source: http://colrd.com/palette/19057/\n",
    "scl3 = [[0.0, 'rgb(255,255,217)'],[0.25, 'rgb(237,248,177)'],[.5, 'rgb(127,205,187)'], [1.0, 'rgb(12,44,132)']]\n",
    "\n",
    "#Create text to show when hovering over map\n",
    "post_ACA['text'] = post_ACA['State'] + '<br>' +\\\n",
    "'Expanded Medicaid: ' + post_ACA['State Medicaid Expansion (2016)'].astype(str) + '<br>' +\\\n",
    "'Medicaid Enrollment in 2016: '+ post_ACA['Medicaid Enrollment (2016)'].apply(lambda x: '{:,.0f}'.format(x)) + '<br>'+\\\n",
    "'Enrollment Change from 2013: '+ post_ACA['Medicaid Enrollment Change (2013-2016)'].apply(lambda x: '{:,.0f}'.format(x))\n",
    "\n",
    "#Apply log to the color scale so that there is more contrast\n",
    "z = post_ACA.medicaid_delta.apply(lambda x: np.log(x))"
   ]
  },
  {
   "cell_type": "code",
   "execution_count": 22,
   "metadata": {},
   "outputs": [
    {
     "data": {
      "text/html": [
       "<iframe id=\"igraph\" scrolling=\"no\" style=\"border:none;\" seamless=\"seamless\" src=\"https://plot.ly/~prpca1999/130.embed\" height=\"525px\" width=\"100%\"></iframe>"
      ],
      "text/plain": [
       "<plotly.tools.PlotlyDisplay object>"
      ]
     },
     "execution_count": 22,
     "metadata": {},
     "output_type": "execute_result"
    }
   ],
   "source": [
    "#Create the choropleth using Plotly Python API.\n",
    "\n",
    "data = [dict(\n",
    "        type='choropleth',\n",
    "        colorscale = scl3,\n",
    "        autocolorscale = False,\n",
    "    showscale = False,\n",
    "        locations = post_ACA['code'],\n",
    "        z = z,\n",
    "        locationmode = 'USA-states',\n",
    "    hoverinfo = 'text',\n",
    "        text = post_ACA['text'],\n",
    "        marker = dict(\n",
    "            line = dict(\n",
    "                color = 'rgb(255,255,255)',\n",
    "                width = 1.5\n",
    "            )),\n",
    "        #colorbar = dict(\n",
    "        #    title = \"% of New Medicaid Enrollees from 2013\")\n",
    "        )]\n",
    "\n",
    "layout = dict(\n",
    "        title = 'Figure 6: Change in Medicaid Enrollment by State between 2013 and 2016<br>(hover for actual numbers)',\n",
    "        geo = dict(\n",
    "            scope='usa',\n",
    "            projection=dict(type='albers usa'),\n",
    "            showlakes = True,\n",
    "            lakecolor = 'rgb(255, 255, 255)'),\n",
    "             )\n",
    "    \n",
    "fig = dict(data=data, layout=layout)\n",
    "py.iplot(fig, filename='medicaid-cloropleth-USA')"
   ]
  },
  {
   "cell_type": "markdown",
   "metadata": {},
   "source": [
    "<h3>Takeaways</h3>\n",
    "\n",
    "This report provides useful information to a wide range of interested parties, from a curious citizen to a company evaluating how health insurance can affect its business in different states. Through this analysis, we could see that **the characteristics of health insurance coverage may vary significantly among states**. The underlying causes for such variations can now be analyzed in depth, depending on the interest of the reader. The data suggests that factors like **demographics, economic situation and politics** have variable levels of impact on the state level.\n",
    "\n",
    "Undoubtedly, **the Affordable Healthcare Act has significantly affected the health insurance business** in the country in general. The evidence shows that many newly eligible individuals have signed up for Medicaid where it was extended, and many have also purchased insurance through the marketplace, whether due to the mandate or to take advantage of tax credits if elegible. Together, these initiatives have **resulted on a major drop in the uninsured population** from over 40 million (15%) in 2010 to an estimated 30 million people (9.4%) in 2016, despite the population growth in the period."
   ]
  },
  {
   "cell_type": "raw",
   "metadata": {
    "collapsed": true
   },
   "source": [
    "<script>\n",
    "  $(document).ready(function(){\n",
    "    $('div.prompt').hide();\n",
    "    $('div.back-to-top').hide();\n",
    "    $('nav#menubar').hide();\n",
    "    $('.breadcrumb').hide();\n",
    "    $('.hidden-print').hide();\n",
    "  });\n",
    "</script>\n",
    "\n",
    "<footer id=\"attribution\" style=\"float:right; color:#999; background:#fff;\">\n",
    "Created with Jupyter, delivered by Fastly, rendered by Rackspace.\n",
    "</footer>"
   ]
  }
 ],
 "metadata": {
  "kernelspec": {
   "display_name": "Python 2",
   "language": "python",
   "name": "python2"
  },
  "language_info": {
   "codemirror_mode": {
    "name": "ipython",
    "version": 2
   },
   "file_extension": ".py",
   "mimetype": "text/x-python",
   "name": "python",
   "nbconvert_exporter": "python",
   "pygments_lexer": "ipython2",
   "version": "2.7.13"
  }
 },
 "nbformat": 4,
 "nbformat_minor": 2
}
